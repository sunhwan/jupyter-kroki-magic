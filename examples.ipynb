{
 "cells": [
  {
   "cell_type": "code",
   "execution_count": 1,
   "metadata": {},
   "outputs": [],
   "source": [
    "%load_ext krokimagic"
   ]
  },
  {
   "cell_type": "markdown",
   "metadata": {},
   "source": [
    "# Configuration"
   ]
  },
  {
   "cell_type": "code",
   "execution_count": 2,
   "metadata": {},
   "outputs": [
    {
     "name": "stdout",
     "output_type": "stream",
     "text": [
      "\u001b[0;31mDocstring:\u001b[0m\n",
      "::\n",
      "\n",
      "  %kroki [--url URL] [--ssl | --no-ssl] [--expand_vars | --no-expand_vars]\n",
      "             type\n",
      "\n",
      "positional arguments:\n",
      "  type                  required kroki diagram type, one of ['actdiag',\n",
      "                        'blockdiag', 'bpmn', 'bytefield', 'c4plantuml', 'd2',\n",
      "                        'dbml', 'diagramsnet', 'ditaa', 'dot', 'erd',\n",
      "                        'excalidraw', 'graphviz', 'kroki', 'mermaid',\n",
      "                        'nomnoml', 'nwdiag', 'packetdiag', 'pikchr',\n",
      "                        'plantuml', 'rackdiag', 'seqdiag', 'structurizr',\n",
      "                        'svgbob', 'umlet', 'vega', 'vegalite', 'wavedrom']\n",
      "\n",
      "options:\n",
      "  --url URL, -u URL     URL of kroki server to be used, defaults to\n",
      "                        os.env['KROKI_ENDPOINT'] and if not set to\n",
      "                        https://kroki.io]\n",
      "  --ssl, --no-ssl       verify ssl chain (default: True)\n",
      "  --expand_vars, --no-expand_vars\n",
      "                        replace/expand variables from user namespace within\n",
      "                        cell content before sending to kroki (default: False)\n",
      "\u001b[0;31mFile:\u001b[0m      ~/workspace/jupyter-kroki-magic/krokimagic/krokimagic.py\n"
     ]
    }
   ],
   "source": [
    "%%kroki?"
   ]
  },
  {
   "cell_type": "markdown",
   "metadata": {},
   "source": [
    "## URL\n",
    "\n",
    "URL is read from `-u | --url` argument, if ommitted it falls back to operation system environment var `KROKI_ENDPOINT`, if that one is **not** set it uses `https://kroki.io`"
   ]
  },
  {
   "cell_type": "code",
   "execution_count": 3,
   "metadata": {},
   "outputs": [
    {
     "data": {
      "text/plain": [
       "'https://kroki.io'"
      ]
     },
     "execution_count": 3,
     "metadata": {},
     "output_type": "execute_result"
    }
   ],
   "source": [
    "import os\n",
    "original_endpoint=os.environ.get('KROKI_ENDPOINT')\n",
    "os.environ['KROKI_ENDPOINT']='https://kroki.io'\n",
    "os.environ.get('KROKI_ENDPOINT')"
   ]
  },
  {
   "cell_type": "markdown",
   "metadata": {},
   "source": [
    "with above settings, `%%kroki svgbob ... ` and `%%kroki -u https://kroki.io svgbob ...` reach out to same server"
   ]
  },
  {
   "cell_type": "code",
   "execution_count": 4,
   "metadata": {},
   "outputs": [
    {
     "name": "stderr",
     "output_type": "stream",
     "text": [
      "/Users/grundp/.asdf/installs/python/3/lib/python3.10/site-packages/urllib3/connectionpool.py:1045: InsecureRequestWarning: Unverified HTTPS request is being made to host 'sfs.prod.aws.orange.bisnode.net'. Adding certificate verification is strongly advised. See: https://urllib3.readthedocs.io/en/1.26.x/advanced-usage.html#ssl-warnings\n",
      "  warnings.warn(\n"
     ]
    },
    {
     "data": {
      "image/svg+xml": [
       "<svg xmlns=\"http://www.w3.org/2000/svg\" width=\"352\" height=\"144\">\n",
       "  <style>\n",
       "    line, path, circle, rect, polygon{stroke:black;stroke-width:2;stroke-opacity:1;fill-opacity:1;stroke-linecap:round;stroke-linejoin:miter;}text{font-family:Iosevka Fixed, monospace;font-size:14px;}rect.backdrop{stroke:none;fill:white;}.broken{stroke-dasharray:8;}.filled{fill:black;}.bg_filled{fill:white;}.nofill{fill:white;}.end_marked_arrow{marker-end:url(#arrow);}.start_marked_arrow{marker-start:url(#arrow);}.end_marked_diamond{marker-end:url(#diamond);}.start_marked_diamond{marker-start:url(#diamond);}.end_marked_circle{marker-end:url(#circle);}.start_marked_circle{marker-start:url(#circle);}.end_marked_open_circle{marker-end:url(#open_circle);}.start_marked_open_circle{marker-start:url(#open_circle);}.end_marked_big_open_circle{marker-end:url(#big_open_circle);}.start_marked_big_open_circle{marker-start:url(#big_open_circle);}\n",
       "    <!--separator-->\n",
       "    \n",
       "  </style>\n",
       "  <defs>\n",
       "    <marker id=\"arrow\" viewBox=\"-2 -2 8 8\" refX=\"4\" refY=\"2\" markerWidth=\"7\" markerHeight=\"7\" orient=\"auto-start-reverse\">\n",
       "      <polygon points=\"0,0 0,4 4,2 0,0\"/>\n",
       "    </marker>\n",
       "    <marker id=\"diamond\" viewBox=\"-2 -2 8 8\" refX=\"4\" refY=\"2\" markerWidth=\"7\" markerHeight=\"7\" orient=\"auto-start-reverse\">\n",
       "      <polygon points=\"0,2 2,0 4,2 2,4 0,2\"/>\n",
       "    </marker>\n",
       "    <marker id=\"circle\" viewBox=\"0 0 8 8\" refX=\"4\" refY=\"4\" markerWidth=\"7\" markerHeight=\"7\" orient=\"auto-start-reverse\">\n",
       "      <circle cx=\"4\" cy=\"4\" r=\"2\" class=\"filled\"/>\n",
       "    </marker>\n",
       "    <marker id=\"open_circle\" viewBox=\"0 0 8 8\" refX=\"4\" refY=\"4\" markerWidth=\"7\" markerHeight=\"7\" orient=\"auto-start-reverse\">\n",
       "      <circle cx=\"4\" cy=\"4\" r=\"2\" class=\"bg_filled\"/>\n",
       "    </marker>\n",
       "    <marker id=\"big_open_circle\" viewBox=\"0 0 8 8\" refX=\"4\" refY=\"4\" markerWidth=\"7\" markerHeight=\"7\" orient=\"auto-start-reverse\">\n",
       "      <circle cx=\"4\" cy=\"4\" r=\"3\" class=\"bg_filled\"/>\n",
       "    </marker>\n",
       "  </defs>\n",
       "  <rect class=\"backdrop\" x=\"0\" y=\"0\" width=\"352\" height=\"144\"/>\n",
       "  <text x=\"82\" y=\"60\">A</text>\n",
       "  <text x=\"146\" y=\"60\">B</text>\n",
       "  <text x=\"202\" y=\"60\">C</text>\n",
       "  <text x=\"226\" y=\"60\">D</text>\n",
       "  <circle cx=\"84\" cy=\"72\" r=\"3\" class=\"filled\"/>\n",
       "  <line x1=\"88\" y1=\"72\" x2=\"144\" y2=\"72\" class=\"solid\"/>\n",
       "  <circle cx=\"148\" cy=\"72\" r=\"3\" class=\"filled\"/>\n",
       "  <line x1=\"152\" y1=\"72\" x2=\"192\" y2=\"72\" class=\"solid\"/>\n",
       "  <circle cx=\"196\" cy=\"72\" r=\"3\" class=\"filled\"/>\n",
       "  <line x1=\"200\" y1=\"72\" x2=\"224\" y2=\"72\" class=\"solid\"/>\n",
       "  <circle cx=\"228\" cy=\"72\" r=\"3\" class=\"filled\"/>\n",
       "  <line x1=\"232\" y1=\"72\" x2=\"264\" y2=\"72\" class=\"solid\"/>\n",
       "  <circle cx=\"268\" cy=\"72\" r=\"3\" class=\"filled\"/>\n",
       "  <text x=\"170\" y=\"124\">B</text>\n",
       "  <text x=\"338\" y=\"44\">F</text>\n",
       "  <text x=\"338\" y=\"76\">E</text>\n",
       "  <text x=\"338\" y=\"108\">G</text>\n",
       "  <text x=\"218\" y=\"124\">C</text>\n",
       "  <g>\n",
       "    <path d=\"M 288,40 A 8,8 0,0,0 282,44\" class=\"nofill\"/>\n",
       "    <line x1=\"282\" y1=\"44\" x2=\"270\" y2=\"68\" class=\"solid\"/>\n",
       "    <line x1=\"288\" y1=\"40\" x2=\"312\" y2=\"40\" class=\"solid\"/>\n",
       "    <polygon points=\"312,36 320,40 312,44\" class=\"filled\"/>\n",
       "  </g>\n",
       "  <g>\n",
       "    <line x1=\"150\" y1=\"76\" x2=\"162\" y2=\"100\" class=\"solid\"/>\n",
       "    <polygon points=\"159,100 166,108 166,97\" class=\"filled\"/>\n",
       "  </g>\n",
       "  <g>\n",
       "    <line x1=\"270\" y1=\"76\" x2=\"282\" y2=\"100\" class=\"solid\"/>\n",
       "    <path d=\"M 282,100 A 8,8 0,0,0 288,104\" class=\"nofill\"/>\n",
       "    <line x1=\"288\" y1=\"104\" x2=\"312\" y2=\"104\" class=\"solid\"/>\n",
       "    <polygon points=\"312,100 320,104 312,108\" class=\"filled\"/>\n",
       "  </g>\n",
       "  <g>\n",
       "    <line x1=\"272\" y1=\"72\" x2=\"312\" y2=\"72\" class=\"solid\"/>\n",
       "    <polygon points=\"312,68 320,72 312,76\" class=\"filled\"/>\n",
       "  </g>\n",
       "  <g>\n",
       "    <polygon points=\"255,92 262,84 262,95\" class=\"filled\"/>\n",
       "    <line x1=\"258\" y1=\"92\" x2=\"246\" y2=\"116\" class=\"solid\"/>\n",
       "    <line x1=\"232\" y1=\"120\" x2=\"240\" y2=\"120\" class=\"solid\"/>\n",
       "    <path d=\"M 246,116 A 8,8 0,0,1 240,120\" class=\"nofill\"/>\n",
       "  </g>\n",
       "  <g>\n",
       "    <line x1=\"184\" y1=\"120\" x2=\"200\" y2=\"120\" class=\"solid\"/>\n",
       "    <polygon points=\"200,116 208,120 200,124\" class=\"filled\"/>\n",
       "  </g>\n",
       "</svg>"
      ],
      "text/plain": [
       "<IPython.core.display.SVG object>"
      ]
     },
     "metadata": {},
     "output_type": "display_data"
    }
   ],
   "source": [
    "%%kroki svgbob\n",
    "  \n",
    "\n",
    "                                   .--->  F\n",
    "          A       B      C  D     /\n",
    "          *-------*-----*---*----*----->  E\n",
    "                   \\            ^ \\\n",
    "                    v          /   '--->  G\n",
    "                     B --> C -'"
   ]
  },
  {
   "cell_type": "code",
   "execution_count": 5,
   "metadata": {},
   "outputs": [],
   "source": [
    "os.environ['KROKI_ENDPOINT']=original_endpoint"
   ]
  },
  {
   "cell_type": "markdown",
   "metadata": {},
   "source": [
    "## SSL\n",
    "if you use a self-hosted kroki server, chances are you're using some self-signed certificate as well ...\n",
    "To come around this, we introduced `--no-ssl` flag. It advices `requests`to not check ssl chain and hides its warnings."
   ]
  },
  {
   "cell_type": "code",
   "execution_count": 6,
   "metadata": {},
   "outputs": [
    {
     "data": {
      "image/svg+xml": [
       "<svg xmlns=\"http://www.w3.org/2000/svg\" width=\"712\" height=\"192\">\n",
       "  <style>\n",
       "    line, path, circle, rect, polygon{stroke:black;stroke-width:2;stroke-opacity:1;fill-opacity:1;stroke-linecap:round;stroke-linejoin:miter;}text{font-family:Iosevka Fixed, monospace;font-size:14px;}rect.backdrop{stroke:none;fill:white;}.broken{stroke-dasharray:8;}.filled{fill:black;}.bg_filled{fill:white;}.nofill{fill:white;}.end_marked_arrow{marker-end:url(#arrow);}.start_marked_arrow{marker-start:url(#arrow);}.end_marked_diamond{marker-end:url(#diamond);}.start_marked_diamond{marker-start:url(#diamond);}.end_marked_circle{marker-end:url(#circle);}.start_marked_circle{marker-start:url(#circle);}.end_marked_open_circle{marker-end:url(#open_circle);}.start_marked_open_circle{marker-start:url(#open_circle);}.end_marked_big_open_circle{marker-end:url(#big_open_circle);}.start_marked_big_open_circle{marker-start:url(#big_open_circle);}\n",
       "    <!--separator-->\n",
       "    \n",
       "  </style>\n",
       "  <defs>\n",
       "    <marker id=\"arrow\" viewBox=\"-2 -2 8 8\" refX=\"4\" refY=\"2\" markerWidth=\"7\" markerHeight=\"7\" orient=\"auto-start-reverse\">\n",
       "      <polygon points=\"0,0 0,4 4,2 0,0\"/>\n",
       "    </marker>\n",
       "    <marker id=\"diamond\" viewBox=\"-2 -2 8 8\" refX=\"4\" refY=\"2\" markerWidth=\"7\" markerHeight=\"7\" orient=\"auto-start-reverse\">\n",
       "      <polygon points=\"0,2 2,0 4,2 2,4 0,2\"/>\n",
       "    </marker>\n",
       "    <marker id=\"circle\" viewBox=\"0 0 8 8\" refX=\"4\" refY=\"4\" markerWidth=\"7\" markerHeight=\"7\" orient=\"auto-start-reverse\">\n",
       "      <circle cx=\"4\" cy=\"4\" r=\"2\" class=\"filled\"/>\n",
       "    </marker>\n",
       "    <marker id=\"open_circle\" viewBox=\"0 0 8 8\" refX=\"4\" refY=\"4\" markerWidth=\"7\" markerHeight=\"7\" orient=\"auto-start-reverse\">\n",
       "      <circle cx=\"4\" cy=\"4\" r=\"2\" class=\"bg_filled\"/>\n",
       "    </marker>\n",
       "    <marker id=\"big_open_circle\" viewBox=\"0 0 8 8\" refX=\"4\" refY=\"4\" markerWidth=\"7\" markerHeight=\"7\" orient=\"auto-start-reverse\">\n",
       "      <circle cx=\"4\" cy=\"4\" r=\"3\" class=\"bg_filled\"/>\n",
       "    </marker>\n",
       "  </defs>\n",
       "  <rect class=\"backdrop\" x=\"0\" y=\"0\" width=\"712\" height=\"192\"/>\n",
       "  <circle cx=\"516\" cy=\"120\" r=\"16\" class=\"nofill\"/>\n",
       "  <line x1=\"520\" y1=\"112\" x2=\"512\" y2=\"128\" class=\"solid\"/>\n",
       "  <text x=\"34\" y=\"28\">0</text>\n",
       "  <text x=\"98\" y=\"28\">3</text>\n",
       "  <circle cx=\"44\" cy=\"40\" r=\"3\" class=\"filled\"/>\n",
       "  <line x1=\"42\" y1=\"44\" x2=\"30\" y2=\"68\" class=\"solid\"/>\n",
       "  <line x1=\"44\" y1=\"44\" x2=\"44\" y2=\"100\" class=\"solid\"/>\n",
       "  <line x1=\"48\" y1=\"40\" x2=\"104\" y2=\"40\" class=\"solid\"/>\n",
       "  <circle cx=\"108\" cy=\"40\" r=\"3\" class=\"filled\"/>\n",
       "  <line x1=\"106\" y1=\"44\" x2=\"94\" y2=\"68\" class=\"solid\"/>\n",
       "  <line x1=\"108\" y1=\"44\" x2=\"108\" y2=\"100\" class=\"solid\"/>\n",
       "  <text x=\"18\" y=\"60\">1</text>\n",
       "  <text x=\"82\" y=\"60\">2</text>\n",
       "  <circle cx=\"28\" cy=\"72\" r=\"3\" class=\"filled\"/>\n",
       "  <line x1=\"28\" y1=\"76\" x2=\"28\" y2=\"132\" class=\"solid\"/>\n",
       "  <line x1=\"32\" y1=\"72\" x2=\"88\" y2=\"72\" class=\"solid\"/>\n",
       "  <circle cx=\"92\" cy=\"72\" r=\"3\" class=\"filled\"/>\n",
       "  <line x1=\"92\" y1=\"76\" x2=\"92\" y2=\"132\" class=\"solid\"/>\n",
       "  <text x=\"50\" y=\"92\">4</text>\n",
       "  <text x=\"114\" y=\"92\">7</text>\n",
       "  <circle cx=\"44\" cy=\"104\" r=\"3\" class=\"filled\"/>\n",
       "  <line x1=\"42\" y1=\"108\" x2=\"30\" y2=\"132\" class=\"solid\"/>\n",
       "  <line x1=\"48\" y1=\"104\" x2=\"104\" y2=\"104\" class=\"solid\"/>\n",
       "  <circle cx=\"108\" cy=\"104\" r=\"3\" class=\"filled\"/>\n",
       "  <line x1=\"106\" y1=\"108\" x2=\"94\" y2=\"132\" class=\"solid\"/>\n",
       "  <circle cx=\"28\" cy=\"136\" r=\"3\" class=\"filled\"/>\n",
       "  <line x1=\"32\" y1=\"136\" x2=\"88\" y2=\"136\" class=\"solid\"/>\n",
       "  <circle cx=\"92\" cy=\"136\" r=\"3\" class=\"filled\"/>\n",
       "  <text x=\"18\" y=\"156\">5</text>\n",
       "  <text x=\"82\" y=\"156\">6</text>\n",
       "  <text x=\"314\" y=\"28\">P</text>\n",
       "  <circle cx=\"332\" cy=\"24\" r=\"3\" class=\"filled\"/>\n",
       "  <text x=\"306\" y=\"76\">v0</text>\n",
       "  <text x=\"418\" y=\"76\">v3</text>\n",
       "  <circle cx=\"324\" cy=\"88\" r=\"3\" class=\"filled\"/>\n",
       "  <line x1=\"322\" y1=\"92\" x2=\"294\" y2=\"148\" class=\"solid\"/>\n",
       "  <line x1=\"328\" y1=\"88\" x2=\"408\" y2=\"88\" class=\"solid\"/>\n",
       "  <circle cx=\"412\" cy=\"88\" r=\"3\" class=\"filled\"/>\n",
       "  <line x1=\"414\" y1=\"92\" x2=\"442\" y2=\"148\" class=\"solid\"/>\n",
       "  <text x=\"386\" y=\"108\">X</text>\n",
       "  <line x1=\"384\" y1=\"112\" x2=\"382\" y2=\"116\" class=\"solid\"/>\n",
       "  <circle cx=\"380\" cy=\"120\" r=\"3\" class=\"nofill\"/>\n",
       "  <circle cx=\"292\" cy=\"152\" r=\"3\" class=\"filled\"/>\n",
       "  <line x1=\"296\" y1=\"152\" x2=\"440\" y2=\"152\" class=\"solid\"/>\n",
       "  <circle cx=\"444\" cy=\"152\" r=\"3\" class=\"filled\"/>\n",
       "  <text x=\"450\" y=\"28\">Eye</text>\n",
       "  <path d=\"M 480,32 A 16,16 0,0,1 480,48\" class=\"nofill\"/>\n",
       "  <line x1=\"520\" y1=\"72\" x2=\"584\" y2=\"72\" class=\"solid\"/>\n",
       "  <circle cx=\"588\" cy=\"72\" r=\"3\" class=\"filled\"/>\n",
       "  <line x1=\"592\" y1=\"72\" x2=\"656\" y2=\"72\" class=\"solid\"/>\n",
       "  <text x=\"162\" y=\"44\">+y</text>\n",
       "  <polygon points=\"192,84 184,88 192,92\" class=\"filled\"/>\n",
       "  <path d=\"M 160,100 A 4,4 0,0,0 156,108\" class=\"nofill\"/>\n",
       "  <polygon points=\"159,111 157,107 155,109\" class=\"filled\"/>\n",
       "  <text x=\"178\" y=\"124\">â¤´</text>\n",
       "  <text x=\"138\" y=\"156\">+z</text>\n",
       "  <text x=\"626\" y=\"44\">Reflection</text>\n",
       "  <text x=\"234\" y=\"108\">+x</text>\n",
       "  <text x=\"546\" y=\"124\">Refraction</text>\n",
       "  <circle cx=\"668\" cy=\"104\" r=\"3\" class=\"nofill\"/>\n",
       "  <line x1=\"666\" y1=\"108\" x2=\"646\" y2=\"148\" class=\"solid\"/>\n",
       "  <line x1=\"670\" y1=\"108\" x2=\"690\" y2=\"148\" class=\"solid\"/>\n",
       "  <circle cx=\"644\" cy=\"152\" r=\"3\" class=\"nofill\"/>\n",
       "  <line x1=\"648\" y1=\"152\" x2=\"688\" y2=\"152\" class=\"solid\"/>\n",
       "  <circle cx=\"692\" cy=\"152\" r=\"3\" class=\"nofill\"/>\n",
       "  <text x=\"266\" y=\"156\">v1</text>\n",
       "  <text x=\"458\" y=\"156\">v2</text>\n",
       "  <g>\n",
       "    <line x1=\"334\" y1=\"28\" x2=\"370\" y2=\"100\" class=\"solid\"/>\n",
       "    <polygon points=\"367,100 374,108 374,97\" class=\"filled\"/>\n",
       "  </g>\n",
       "  <g>\n",
       "    <line x1=\"488\" y1=\"16\" x2=\"476\" y2=\"40\" class=\"solid\"/>\n",
       "    <line x1=\"476\" y1=\"40\" x2=\"488\" y2=\"64\" class=\"solid\"/>\n",
       "  </g>\n",
       "  <g>\n",
       "    <polygon points=\"569,28 562,20 562,31\" class=\"filled\"/>\n",
       "    <line x1=\"566\" y1=\"28\" x2=\"586\" y2=\"68\" class=\"solid\"/>\n",
       "  </g>\n",
       "  <g>\n",
       "    <line x1=\"616\" y1=\"16\" x2=\"598\" y2=\"52\" class=\"solid\"/>\n",
       "    <polygon points=\"601,52 594,60 594,49\" class=\"filled\"/>\n",
       "  </g>\n",
       "  <g>\n",
       "    <polygon points=\"168,60 172,48 176,60\" class=\"filled\"/>\n",
       "    <line x1=\"172\" y1=\"60\" x2=\"172\" y2=\"104\" class=\"solid\"/>\n",
       "    <line x1=\"172\" y1=\"104\" x2=\"216\" y2=\"104\" class=\"solid\"/>\n",
       "    <line x1=\"172\" y1=\"104\" x2=\"158\" y2=\"132\" class=\"solid\"/>\n",
       "    <polygon points=\"216,100 224,104 216,108\" class=\"filled\"/>\n",
       "    <polygon points=\"161,132 154,140 154,129\" class=\"filled\"/>\n",
       "  </g>\n",
       "  <g>\n",
       "    <path d=\"M 192,88 A 4,4 0,0,1 196,92\" class=\"nofill\"/>\n",
       "    <line x1=\"196\" y1=\"92\" x2=\"196\" y2=\"96\" class=\"solid\"/>\n",
       "  </g>\n",
       "  <g>\n",
       "    <polygon points=\"536,100 528,104 536,108\" class=\"filled\"/>\n",
       "    <line x1=\"536\" y1=\"104\" x2=\"600\" y2=\"104\" class=\"solid\"/>\n",
       "  </g>\n",
       "  <g>\n",
       "    <line x1=\"508\" y1=\"144\" x2=\"508\" y2=\"164\" class=\"solid\"/>\n",
       "    <polygon points=\"504,164 512,164 508,176\" class=\"filled\"/>\n",
       "  </g>\n",
       "</svg>"
      ],
      "text/plain": [
       "<IPython.core.display.SVG object>"
      ]
     },
     "metadata": {},
     "output_type": "display_data"
    }
   ],
   "source": [
    "%%kroki --no-ssl svgbob\n",
    "  \n",
    "    0       3                          P *              Eye /         ^     /\n",
    "     *-------*      +y                    \\                +)          \\   /  Reflection\n",
    "  1 /|    2 /|       ^                     \\                \\           \\ v\n",
    "   *-+-----* |       |                v0    \\       v3           --------*--------\n",
    "   | |4    | |7      | ◄╮               *----\\-----*\n",
    "   | *-----|-*     ⤹ +-----> +x        /      v X   \\          ,-.<--------        o\n",
    "   |/      |/       / ⤴               /        o     \\        ( / ) Refraction    / \\\n",
    "   *-------*       v                 /                \\        `-'               /   \\\n",
    "  5       6      +z              v1 *------------------* v2    |                o-----o\n",
    "                                                               v\n"
   ]
  },
  {
   "cell_type": "markdown",
   "metadata": {},
   "source": [
    "## variable expansion\n",
    "\n",
    "In order to expand (read replace) variables in the cell content, before sending to kroki server, enable `--expand-vars` flag."
   ]
  },
  {
   "cell_type": "code",
   "execution_count": 7,
   "metadata": {},
   "outputs": [],
   "source": [
    "person=['Alice','Bob']"
   ]
  },
  {
   "cell_type": "code",
   "execution_count": 8,
   "metadata": {},
   "outputs": [
    {
     "data": {
      "image/svg+xml": [
       "<svg xmlns=\"http://www.w3.org/2000/svg\" xmlns:xlink=\"http://www.w3.org/1999/xlink\" contentStyleType=\"text/css\" height=\"208px\" preserveAspectRatio=\"none\" style=\"width:292px;height:208px;background:#FFFFFF;\" version=\"1.1\" viewBox=\"0 0 292 208\" width=\"292px\" zoomAndPan=\"magnify\"><defs/><g><line style=\"stroke:#181818;stroke-width:0.5;stroke-dasharray:5.0,5.0;\" x1=\"28\" x2=\"28\" y1=\"36.2969\" y2=\"172.8281\"/><line style=\"stroke:#181818;stroke-width:0.5;stroke-dasharray:5.0,5.0;\" x1=\"265\" x2=\"265\" y1=\"36.2969\" y2=\"172.8281\"/><rect fill=\"#E2E2F0\" height=\"30.2969\" rx=\"2.5\" ry=\"2.5\" style=\"stroke:#181818;stroke-width:0.5;\" width=\"46\" x=\"5\" y=\"5\"/><text fill=\"#000000\" font-family=\"sans-serif\" font-size=\"14\" lengthAdjust=\"spacing\" textLength=\"32\" x=\"12\" y=\"24.9951\">Alice</text><rect fill=\"#E2E2F0\" height=\"30.2969\" rx=\"2.5\" ry=\"2.5\" style=\"stroke:#181818;stroke-width:0.5;\" width=\"46\" x=\"5\" y=\"171.8281\"/><text fill=\"#000000\" font-family=\"sans-serif\" font-size=\"14\" lengthAdjust=\"spacing\" textLength=\"32\" x=\"12\" y=\"191.8232\">Alice</text><rect fill=\"#E2E2F0\" height=\"30.2969\" rx=\"2.5\" ry=\"2.5\" style=\"stroke:#181818;stroke-width:0.5;\" width=\"42\" x=\"244\" y=\"5\"/><text fill=\"#000000\" font-family=\"sans-serif\" font-size=\"14\" lengthAdjust=\"spacing\" textLength=\"28\" x=\"251\" y=\"24.9951\">Bob</text><rect fill=\"#E2E2F0\" height=\"30.2969\" rx=\"2.5\" ry=\"2.5\" style=\"stroke:#181818;stroke-width:0.5;\" width=\"42\" x=\"244\" y=\"171.8281\"/><text fill=\"#000000\" font-family=\"sans-serif\" font-size=\"14\" lengthAdjust=\"spacing\" textLength=\"28\" x=\"251\" y=\"191.8232\">Bob</text><polygon fill=\"#181818\" points=\"253,63.4297,263,67.4297,253,71.4297,257,67.4297\" style=\"stroke:#181818;stroke-width:1.0;\"/><line style=\"stroke:#181818;stroke-width:1.0;\" x1=\"28\" x2=\"259\" y1=\"67.4297\" y2=\"67.4297\"/><text fill=\"#000000\" font-family=\"sans-serif\" font-size=\"13\" lengthAdjust=\"spacing\" textLength=\"149\" x=\"35\" y=\"62.3638\">Authentication Request</text><polygon fill=\"#181818\" points=\"39,92.5625,29,96.5625,39,100.5625,35,96.5625\" style=\"stroke:#181818;stroke-width:1.0;\"/><line style=\"stroke:#181818;stroke-width:1.0;stroke-dasharray:2.0,2.0;\" x1=\"33\" x2=\"264\" y1=\"96.5625\" y2=\"96.5625\"/><text fill=\"#000000\" font-family=\"sans-serif\" font-size=\"13\" lengthAdjust=\"spacing\" textLength=\"159\" x=\"45\" y=\"91.4966\">Authentication Response</text><polygon fill=\"#181818\" points=\"253,121.6953,263,125.6953,253,129.6953,257,125.6953\" style=\"stroke:#181818;stroke-width:1.0;\"/><line style=\"stroke:#181818;stroke-width:1.0;\" x1=\"28\" x2=\"259\" y1=\"125.6953\" y2=\"125.6953\"/><text fill=\"#000000\" font-family=\"sans-serif\" font-size=\"13\" lengthAdjust=\"spacing\" textLength=\"203\" x=\"35\" y=\"120.6294\">Another authentication Request</text><polygon fill=\"#181818\" points=\"39,150.8281,29,154.8281,39,158.8281,35,154.8281\" style=\"stroke:#181818;stroke-width:1.0;\"/><line style=\"stroke:#181818;stroke-width:1.0;stroke-dasharray:2.0,2.0;\" x1=\"33\" x2=\"264\" y1=\"154.8281\" y2=\"154.8281\"/><text fill=\"#000000\" font-family=\"sans-serif\" font-size=\"13\" lengthAdjust=\"spacing\" textLength=\"213\" x=\"45\" y=\"149.7622\">Another authentication Response</text><!--SRC=[Syp9J4vLqBLJSCfFib9mB2t9ICqhoKnEBCdCprC8IYqiJIqkuGBAAUW2rJY256DHLLoGdrUSoiNbY6fONZvGNP528dP38OfjT7K9g8OO3W00]--></g></svg>"
      ],
      "text/plain": [
       "<IPython.core.display.SVG object>"
      ]
     },
     "metadata": {},
     "output_type": "display_data"
    }
   ],
   "source": [
    "%%kroki --expand_vars plantuml\n",
    "@startuml\n",
    "{person[0]} -> {person[1]}: Authentication Request\n",
    "{person[1]} --> {person[0]}: Authentication Response\n",
    "\n",
    "{person[0]} -> {person[1]}: Another authentication Request\n",
    "{person[0]} <-- {person[1]}: Another authentication Response\n",
    "@enduml"
   ]
  },
  {
   "cell_type": "markdown",
   "metadata": {},
   "source": [
    "# Diagrams\n",
    "\n",
    "## UML"
   ]
  },
  {
   "cell_type": "code",
   "execution_count": 9,
   "metadata": {},
   "outputs": [
    {
     "data": {
      "image/svg+xml": [
       "<svg xmlns=\"http://www.w3.org/2000/svg\" xmlns:xlink=\"http://www.w3.org/1999/xlink\" contentStyleType=\"text/css\" height=\"571.875px\" preserveAspectRatio=\"none\" style=\"width:432px;height:571px;background:#FFFFFF;\" version=\"1.1\" viewBox=\"0 0 432 571\" width=\"432.8125px\" zoomAndPan=\"magnify\"><defs/><g><!--cluster Main--><g id=\"cluster_Main\"><rect fill=\"none\" height=\"220.3125\" rx=\"3.9063\" ry=\"3.9063\" style=\"stroke:#181818;stroke-width:1.5625;\" width=\"218.75\" x=\"10.9375\" y=\"89.0625\"/><text fill=\"#000000\" font-family=\"sans-serif\" font-size=\"18.75\" font-weight=\"bold\" lengthAdjust=\"spacing\" textLength=\"53.125\" x=\"15.625\" y=\"109.5917\">Main</text></g><!--cluster Base--><g id=\"cluster_Base\"><rect fill=\"none\" height=\"201.5625\" rx=\"3.9063\" ry=\"3.9063\" style=\"stroke:#181818;stroke-width:1.5625;\" width=\"406.25\" x=\"17.1875\" y=\"360.9375\"/><text fill=\"#000000\" font-family=\"sans-serif\" font-size=\"18.75\" font-weight=\"bold\" lengthAdjust=\"spacing\" textLength=\"54.6875\" x=\"21.875\" y=\"381.4667\">Base</text></g><g id=\"elem_main.view\"><ellipse cx=\"120.3371\" cy=\"159.5362\" fill=\"#F1F1F1\" rx=\"83.6183\" ry=\"20.4737\" style=\"stroke:#181818;stroke-width:0.625;\"/><text fill=\"#000000\" font-family=\"sans-serif\" font-size=\"18.75\" lengthAdjust=\"spacing\" textLength=\"93.75\" x=\"68.7746\" y=\"163.9414\">main.view</text></g><g id=\"elem_singleton\"><ellipse cx=\"118.5441\" cy=\"264.0213\" fill=\"#F1F1F1\" rx=\"82.6066\" ry=\"20.2713\" style=\"stroke:#181818;stroke-width:0.625;\"/><text fill=\"#000000\" font-family=\"sans-serif\" font-size=\"18.75\" lengthAdjust=\"spacing\" textLength=\"90.625\" x=\"68.5441\" y=\"268.4265\">singleton</text></g><g id=\"elem_base.component\"><ellipse cx=\"286.032\" cy=\"512.0501\" fill=\"#F1F1F1\" rx=\"111.8132\" ry=\"26.1126\" style=\"stroke:#181818;stroke-width:0.625;\"/><text fill=\"#000000\" font-family=\"sans-serif\" font-size=\"18.75\" lengthAdjust=\"spacing\" textLength=\"165.625\" x=\"203.2195\" y=\"515.4162\">base.component</text></g><g id=\"elem_component\"><ellipse cx=\"307.5015\" cy=\"432.5941\" fill=\"#F1F1F1\" rx=\"89.5328\" ry=\"21.6566\" style=\"stroke:#181818;stroke-width:0.625;\"/><text fill=\"#000000\" font-family=\"sans-serif\" font-size=\"18.75\" lengthAdjust=\"spacing\" textLength=\"110.9375\" x=\"249.4077\" y=\"436.5841\">component</text></g><g id=\"elem_model\"><ellipse cx=\"102.899\" cy=\"432.6209\" fill=\"#F1F1F1\" rx=\"59.9302\" ry=\"20.1209\" style=\"stroke:#181818;stroke-width:0.625;\"/><text fill=\"#000000\" font-family=\"sans-serif\" font-size=\"18.75\" lengthAdjust=\"spacing\" textLength=\"59.375\" x=\"73.2115\" y=\"435.987\">model</text></g><!--entity main_ts--><g id=\"elem_main_ts\"><rect fill=\"#F1F1F1\" height=\"53.0762\" rx=\"3.9063\" ry=\"3.9063\" style=\"stroke:#181818;stroke-width:1.5625;\" width=\"114.0625\" x=\"63.2813\" y=\"10.9375\"/><text fill=\"#000000\" font-family=\"sans-serif\" font-size=\"18.75\" font-weight=\"bold\" lengthAdjust=\"spacing\" textLength=\"82.8125\" x=\"78.9063\" y=\"43.9667\">main.ts</text></g><!--link component to base.component--><g id=\"link_component_base.component\"><path d=\"M301.8281,455.0781 C299.9531,461.5938 297.8281,468.9531 295.7656,476.1406 \" fill=\"none\" id=\"component-to-base.component\" style=\"stroke:#181818;stroke-width:1.09375;stroke-dasharray:7.0,7.0;\"/><polygon fill=\"#181818\" points=\"293.6563,483.4375,303.5615,471.6603,295.8232,475.9315,291.5519,468.1932,293.6563,483.4375\" style=\"stroke:#181818;stroke-width:1.09375;\"/></g><!--link main_ts to main.view--><g id=\"link_main_ts_main.view\"><path d=\"M120.3125,64.8281 C120.3125,83.4844 120.3125,108.7187 120.3125,128.2031 \" fill=\"none\" id=\"main_ts-to-main.view\" style=\"stroke:#181818;stroke-width:3.125;\"/><polygon fill=\"#181818\" points=\"120.3125,135.9844,126.5625,121.9219,120.3125,128.1719,114.0625,121.9219,120.3125,135.9844\" style=\"stroke:#181818;stroke-width:3.125;\"/></g><!--link main.view to component--><g id=\"link_main.view_component\"><path d=\"M152.25,178.7344 C176.2656,193.5 208.5469,216.4375 229.6875,243.75 C267.1406,292.125 289.7188,361.0469 300.375,400.4531 \" fill=\"none\" id=\"main.view-to-component\" style=\"stroke:#181818;stroke-width:1.09375;\"/><polygon fill=\"#181818\" points=\"302.3438,407.9844,304.8069,392.7939,300.3544,400.4294,292.719,395.9769,302.3438,407.9844\" style=\"stroke:#181818;stroke-width:1.09375;\"/></g><!--link main.view to singleton--><g id=\"link_main.view_singleton\"><path d=\"M120.0156,180.0469 C119.7813,195.0781 119.4687,216.2812 119.2031,233.4219 \" fill=\"none\" id=\"main.view-to-singleton\" style=\"stroke:#181818;stroke-width:1.09375;stroke-dasharray:7.0,7.0;\"/><polygon fill=\"#181818\" points=\"119.0781,241.125,125.5284,227.1532,119.1897,233.3133,113.0296,226.9747,119.0781,241.125\" style=\"stroke:#181818;stroke-width:1.09375;\"/></g><!--link singleton to model--><g id=\"link_singleton_model\"><path d=\"M116.9531,284.625 C114.2344,313.4219 109.0625,368.3438 105.8594,402.1875 \" fill=\"none\" id=\"singleton-to-model\" style=\"stroke:#181818;stroke-width:1.09375;\"/><polygon fill=\"#181818\" points=\"105.1719,409.6094,112.7179,396.1977,105.9073,401.8316,100.2734,395.021,105.1719,409.6094\" style=\"stroke:#181818;stroke-width:1.09375;\"/></g><!--SRC=[POz1Ry8m38Nl-HLMJ-D0e6ZJBb1f77RRQTodD3KbQk9KSHZIflttjHr2xhWz-_cpdxbpr9ja0eH8qPvI30WvdL7npKc6EiOUDclHR7e7vPFic9JYvN1ojYDaXhL-5cPlR6TQFBZiySMxbW9I1e_7B8REZDOmxcDgCCbDZ_8m7itPvzT8-Trz8PGR6HLjDjJwknsbKZSFYZVZg81l1V0G1ga_7LuMOyLk7CYH5kf70liXrXMe1wbj37sauOM9cbSXDkZ_yTkwcWvbtgxggW33CDOVcPKIE6XTtL-uJi9kLyto2WtBPJNB8JqzRHMl2Js08_cN-HS0]--></g></svg>"
      ],
      "text/plain": [
       "<IPython.core.display.SVG object>"
      ]
     },
     "metadata": {},
     "output_type": "display_data"
    }
   ],
   "source": [
    "%%kroki --no-ssl plantuml\n",
    "\n",
    "skinparam monochrome true\n",
    "skinparam ranksep 20\n",
    "skinparam dpi 150\n",
    "skinparam arrowThickness 0.7\n",
    "skinparam packageTitleAlignment left\n",
    "skinparam usecaseBorderThickness 0.4\n",
    "skinparam defaultFontSize 12\n",
    "skinparam rectangleBorderThickness 1\n",
    "\n",
    "rectangle \"Main\" {\n",
    "  (main.view)\n",
    "  (singleton)\n",
    "}\n",
    "rectangle \"Base\" {\n",
    "  (base.component)\n",
    "  (component)\n",
    "  (model)\n",
    "}\n",
    "rectangle \"<b>main.ts</b>\" as main_ts\n",
    "\n",
    "(component) ..> (base.component)\n",
    "main_ts ==> (main.view)\n",
    "(main.view) --> (component)\n",
    "(main.view) ...> (singleton)\n",
    "(singleton) ---> (model)"
   ]
  },
  {
   "cell_type": "markdown",
   "metadata": {},
   "source": [
    "## Block Diagram"
   ]
  },
  {
   "cell_type": "code",
   "execution_count": 10,
   "metadata": {},
   "outputs": [
    {
     "data": {
      "image/svg+xml": [
       "<svg xmlns=\"http://www.w3.org/2000/svg\" xmlns:inkspace=\"http://www.inkscape.org/namespaces/inkscape\" xmlns:xlink=\"http://www.w3.org/1999/xlink\" viewBox=\"0 0 640 200\" width=\"640px\" height=\"200px\">\n",
       "  <defs id=\"defs_block\">\n",
       "    <filter height=\"1.504\" id=\"filter_blur\" inkspace:collect=\"always\" width=\"1.1575\" x=\"-0.07875\" y=\"-0.252\">\n",
       "      <feGaussianBlur id=\"feGaussianBlur3780\" inkspace:collect=\"always\" stdDeviation=\"4.2\"/>\n",
       "    </filter>\n",
       "  </defs>\n",
       "  <title>blockdiag</title>\n",
       "  <desc>\n",
       "blockdiag {\n",
       "  blockdiag -&gt; generates -&gt; &quot;block-diagrams&quot;;\n",
       "  blockdiag -&gt; is -&gt; &quot;very easy!&quot;;\n",
       "\n",
       "  blockdiag [color = &quot;greenyellow&quot;];\n",
       "  &quot;block-diagrams&quot; [color = &quot;pink&quot;];\n",
       "  &quot;very easy!&quot; [color = &quot;orange&quot;];\n",
       "}\n",
       "</desc>\n",
       "  <rect fill=\"rgb(0,0,0)\" height=\"40\" stroke=\"rgb(0,0,0)\" style=\"filter:url(#filter_blur);opacity:0.7;fill-opacity:1\" width=\"128\" x=\"67\" y=\"46\"/>\n",
       "  <rect fill=\"rgb(0,0,0)\" height=\"40\" stroke=\"rgb(0,0,0)\" style=\"filter:url(#filter_blur);opacity:0.7;fill-opacity:1\" width=\"128\" x=\"259\" y=\"46\"/>\n",
       "  <rect fill=\"rgb(0,0,0)\" height=\"40\" stroke=\"rgb(0,0,0)\" style=\"filter:url(#filter_blur);opacity:0.7;fill-opacity:1\" width=\"128\" x=\"259\" y=\"126\"/>\n",
       "  <rect fill=\"rgb(0,0,0)\" height=\"40\" stroke=\"rgb(0,0,0)\" style=\"filter:url(#filter_blur);opacity:0.7;fill-opacity:1\" width=\"128\" x=\"451\" y=\"46\"/>\n",
       "  <rect fill=\"rgb(0,0,0)\" height=\"40\" stroke=\"rgb(0,0,0)\" style=\"filter:url(#filter_blur);opacity:0.7;fill-opacity:1\" width=\"128\" x=\"451\" y=\"126\"/>\n",
       "  <rect fill=\"rgb(173,255,47)\" height=\"40\" stroke=\"rgb(0,0,0)\" width=\"128\" x=\"64\" y=\"40\"/>\n",
       "  <text fill=\"rgb(0,0,0)\" font-family=\"sans-serif\" font-size=\"11\" font-style=\"normal\" font-weight=\"normal\" text-anchor=\"middle\" textLength=\"56\" x=\"128.0\" y=\"67\">blockdiag</text>\n",
       "  <rect fill=\"rgb(255,255,255)\" height=\"40\" stroke=\"rgb(0,0,0)\" width=\"128\" x=\"256\" y=\"40\"/>\n",
       "  <text fill=\"rgb(0,0,0)\" font-family=\"sans-serif\" font-size=\"11\" font-style=\"normal\" font-weight=\"normal\" text-anchor=\"middle\" textLength=\"57\" x=\"320.5\" y=\"67\">generates</text>\n",
       "  <rect fill=\"rgb(255,255,255)\" height=\"40\" stroke=\"rgb(0,0,0)\" width=\"128\" x=\"256\" y=\"120\"/>\n",
       "  <text fill=\"rgb(0,0,0)\" font-family=\"sans-serif\" font-size=\"11\" font-style=\"normal\" font-weight=\"normal\" text-anchor=\"middle\" textLength=\"10\" x=\"320.0\" y=\"146\">is</text>\n",
       "  <rect fill=\"rgb(255,192,203)\" height=\"40\" stroke=\"rgb(0,0,0)\" width=\"128\" x=\"448\" y=\"40\"/>\n",
       "  <text fill=\"rgb(0,0,0)\" font-family=\"sans-serif\" font-size=\"11\" font-style=\"normal\" font-weight=\"normal\" text-anchor=\"middle\" textLength=\"88\" x=\"512.0\" y=\"67\">block-diagrams</text>\n",
       "  <rect fill=\"rgb(255,165,0)\" height=\"40\" stroke=\"rgb(0,0,0)\" width=\"128\" x=\"448\" y=\"120\"/>\n",
       "  <text fill=\"rgb(0,0,0)\" font-family=\"sans-serif\" font-size=\"11\" font-style=\"normal\" font-weight=\"normal\" text-anchor=\"middle\" textLength=\"59\" x=\"512.5\" y=\"147\">very easy!</text>\n",
       "  <path d=\"M 192 60 L 248 60\" fill=\"none\" stroke=\"rgb(0,0,0)\"/>\n",
       "  <polygon fill=\"rgb(0,0,0)\" points=\"255,60 248,56 248,64 255,60\" stroke=\"rgb(0,0,0)\"/>\n",
       "  <path d=\"M 192 60 L 224 60\" fill=\"none\" stroke=\"rgb(0,0,0)\"/>\n",
       "  <path d=\"M 224 60 L 224 140\" fill=\"none\" stroke=\"rgb(0,0,0)\"/>\n",
       "  <path d=\"M 224 140 L 248 140\" fill=\"none\" stroke=\"rgb(0,0,0)\"/>\n",
       "  <polygon fill=\"rgb(0,0,0)\" points=\"255,140 248,136 248,144 255,140\" stroke=\"rgb(0,0,0)\"/>\n",
       "  <path d=\"M 384 60 L 440 60\" fill=\"none\" stroke=\"rgb(0,0,0)\"/>\n",
       "  <polygon fill=\"rgb(0,0,0)\" points=\"447,60 440,56 440,64 447,60\" stroke=\"rgb(0,0,0)\"/>\n",
       "  <path d=\"M 384 140 L 440 140\" fill=\"none\" stroke=\"rgb(0,0,0)\"/>\n",
       "  <polygon fill=\"rgb(0,0,0)\" points=\"447,140 440,136 440,144 447,140\" stroke=\"rgb(0,0,0)\"/>\n",
       "</svg>"
      ],
      "text/plain": [
       "<IPython.core.display.SVG object>"
      ]
     },
     "metadata": {},
     "output_type": "display_data"
    }
   ],
   "source": [
    "%%kroki -u https://kroki.io blockdiag\n",
    "\n",
    "blockdiag {\n",
    "  blockdiag -> generates -> \"block-diagrams\";\n",
    "  blockdiag -> is -> \"very easy!\";\n",
    "\n",
    "  blockdiag [color = \"greenyellow\"];\n",
    "  \"block-diagrams\" [color = \"pink\"];\n",
    "  \"very easy!\" [color = \"orange\"];\n",
    "}"
   ]
  },
  {
   "cell_type": "markdown",
   "metadata": {},
   "source": [
    "## Sequence Diagram"
   ]
  },
  {
   "cell_type": "code",
   "execution_count": 11,
   "metadata": {},
   "outputs": [
    {
     "data": {
      "image/svg+xml": [
       "<svg xmlns=\"http://www.w3.org/2000/svg\" xmlns:inkspace=\"http://www.inkscape.org/namespaces/inkscape\" xmlns:xlink=\"http://www.w3.org/1999/xlink\" viewBox=\"0 0 640 492\" width=\"640px\" height=\"492px\">\n",
       "  <defs id=\"defs_block\">\n",
       "    <filter height=\"1.504\" id=\"filter_blur\" inkspace:collect=\"always\" width=\"1.1575\" x=\"-0.07875\" y=\"-0.252\">\n",
       "      <feGaussianBlur id=\"feGaussianBlur3780\" inkspace:collect=\"always\" stdDeviation=\"4.2\"/>\n",
       "    </filter>\n",
       "  </defs>\n",
       "  <title>blockdiag</title>\n",
       "  <desc>\n",
       "seqdiag {\n",
       "  browser  -&gt; webserver [label = &quot;GET /index.html&quot;];\n",
       "  browser &lt;-- webserver;\n",
       "  browser  -&gt; webserver [label = &quot;POST /blog/comment&quot;];\n",
       "  webserver  -&gt; database [label = &quot;INSERT comment&quot;];\n",
       "  webserver &lt;-- database;\n",
       "  browser &lt;-- webserver;\n",
       "}\n",
       "</desc>\n",
       "  <rect fill=\"rgb(0,0,0)\" height=\"328\" style=\"filter:url(#filter_blur);opacity:0.7;fill-opacity:1\" width=\"8\" x=\"127\" y=\"142\"/>\n",
       "  <rect fill=\"rgb(0,0,0)\" height=\"50\" style=\"filter:url(#filter_blur);opacity:0.7;fill-opacity:1\" width=\"8\" x=\"319\" y=\"142\"/>\n",
       "  <rect fill=\"rgb(0,0,0)\" height=\"165\" style=\"filter:url(#filter_blur);opacity:0.7;fill-opacity:1\" width=\"8\" x=\"319\" y=\"259\"/>\n",
       "  <rect fill=\"rgb(0,0,0)\" height=\"50\" style=\"filter:url(#filter_blur);opacity:0.7;fill-opacity:1\" width=\"8\" x=\"511\" y=\"324\"/>\n",
       "  <rect fill=\"rgb(0,0,0)\" height=\"40\" stroke=\"rgb(0,0,0)\" style=\"filter:url(#filter_blur);opacity:0.7;fill-opacity:1\" width=\"128\" x=\"67\" y=\"46\"/>\n",
       "  <rect fill=\"rgb(0,0,0)\" height=\"40\" stroke=\"rgb(0,0,0)\" style=\"filter:url(#filter_blur);opacity:0.7;fill-opacity:1\" width=\"128\" x=\"259\" y=\"46\"/>\n",
       "  <rect fill=\"rgb(0,0,0)\" height=\"40\" stroke=\"rgb(0,0,0)\" style=\"filter:url(#filter_blur);opacity:0.7;fill-opacity:1\" width=\"128\" x=\"451\" y=\"46\"/>\n",
       "  <path d=\"M 128 80 L 128 480\" fill=\"none\" stroke=\"rgb(0,0,0)\" stroke-dasharray=\"8 4\"/>\n",
       "  <rect fill=\"moccasin\" height=\"328\" stroke=\"rgb(0,0,0)\" width=\"8\" x=\"124\" y=\"136\"/>\n",
       "  <path d=\"M 320 80 L 320 480\" fill=\"none\" stroke=\"rgb(0,0,0)\" stroke-dasharray=\"8 4\"/>\n",
       "  <rect fill=\"moccasin\" height=\"50\" stroke=\"rgb(0,0,0)\" width=\"8\" x=\"316\" y=\"136\"/>\n",
       "  <rect fill=\"moccasin\" height=\"165\" stroke=\"rgb(0,0,0)\" width=\"8\" x=\"316\" y=\"253\"/>\n",
       "  <path d=\"M 512 80 L 512 480\" fill=\"none\" stroke=\"rgb(0,0,0)\" stroke-dasharray=\"8 4\"/>\n",
       "  <rect fill=\"moccasin\" height=\"50\" stroke=\"rgb(0,0,0)\" width=\"8\" x=\"508\" y=\"318\"/>\n",
       "  <rect fill=\"rgb(255,255,255)\" height=\"40\" stroke=\"rgb(0,0,0)\" width=\"128\" x=\"64\" y=\"40\"/>\n",
       "  <text fill=\"rgb(0,0,0)\" font-family=\"sans-serif\" font-size=\"11\" font-style=\"normal\" font-weight=\"normal\" text-anchor=\"middle\" textLength=\"47\" x=\"128.5\" y=\"66\">browser</text>\n",
       "  <rect fill=\"rgb(255,255,255)\" height=\"40\" stroke=\"rgb(0,0,0)\" width=\"128\" x=\"256\" y=\"40\"/>\n",
       "  <text fill=\"rgb(0,0,0)\" font-family=\"sans-serif\" font-size=\"11\" font-style=\"normal\" font-weight=\"normal\" text-anchor=\"middle\" textLength=\"60\" x=\"320.0\" y=\"66\">webserver</text>\n",
       "  <rect fill=\"rgb(255,255,255)\" height=\"40\" stroke=\"rgb(0,0,0)\" width=\"128\" x=\"448\" y=\"40\"/>\n",
       "  <text fill=\"rgb(0,0,0)\" font-family=\"sans-serif\" font-size=\"11\" font-style=\"normal\" font-weight=\"normal\" text-anchor=\"middle\" textLength=\"52\" x=\"512.0\" y=\"66\">database</text>\n",
       "  <path d=\"M 136 136 L 312 136\" fill=\"none\" stroke=\"rgb(0,0,0)\"/>\n",
       "  <polygon fill=\"rgb(0,0,0)\" points=\"304,132 312,136 304,140\" stroke=\"rgb(0,0,0)\"/>\n",
       "  <path d=\"M 136 186 L 312 186\" fill=\"none\" stroke=\"rgb(0,0,0)\" stroke-dasharray=\"4\"/>\n",
       "  <polygon fill=\"rgb(0,0,0)\" points=\"144,182 136,186 144,190\" stroke=\"rgb(0,0,0)\"/>\n",
       "  <path d=\"M 136 253 L 312 253\" fill=\"none\" stroke=\"rgb(0,0,0)\"/>\n",
       "  <polygon fill=\"rgb(0,0,0)\" points=\"304,249 312,253 304,257\" stroke=\"rgb(0,0,0)\"/>\n",
       "  <path d=\"M 328 318 L 504 318\" fill=\"none\" stroke=\"rgb(0,0,0)\"/>\n",
       "  <polygon fill=\"rgb(0,0,0)\" points=\"496,314 504,318 496,322\" stroke=\"rgb(0,0,0)\"/>\n",
       "  <path d=\"M 328 368 L 504 368\" fill=\"none\" stroke=\"rgb(0,0,0)\" stroke-dasharray=\"4\"/>\n",
       "  <polygon fill=\"rgb(0,0,0)\" points=\"336,364 328,368 336,372\" stroke=\"rgb(0,0,0)\"/>\n",
       "  <path d=\"M 136 418 L 312 418\" fill=\"none\" stroke=\"rgb(0,0,0)\" stroke-dasharray=\"4\"/>\n",
       "  <polygon fill=\"rgb(0,0,0)\" points=\"144,414 136,418 144,422\" stroke=\"rgb(0,0,0)\"/>\n",
       "  <text fill=\"rgb(0,0,0)\" font-family=\"sans-serif\" font-size=\"11\" font-style=\"normal\" font-weight=\"normal\" text-anchor=\"middle\" textLength=\"92\" x=\"190.0\" y=\"132\">GET /index.html</text>\n",
       "  <text fill=\"rgb(0,0,0)\" font-family=\"sans-serif\" font-size=\"11\" font-style=\"normal\" font-weight=\"normal\" text-anchor=\"middle\" textLength=\"120\" x=\"204.0\" y=\"249\">POST /blog/comment</text>\n",
       "  <text fill=\"rgb(0,0,0)\" font-family=\"sans-serif\" font-size=\"11\" font-style=\"normal\" font-weight=\"normal\" text-anchor=\"middle\" textLength=\"101\" x=\"386.5\" y=\"314\">INSERT comment</text>\n",
       "</svg>"
      ],
      "text/plain": [
       "<IPython.core.display.SVG object>"
      ]
     },
     "metadata": {},
     "output_type": "display_data"
    }
   ],
   "source": [
    "%%kroki -u https://kroki.io seqdiag\n",
    "\n",
    "seqdiag {\n",
    "  browser  -> webserver [label = \"GET /index.html\"];\n",
    "  browser <-- webserver;\n",
    "  browser  -> webserver [label = \"POST /blog/comment\"];\n",
    "  webserver  -> database [label = \"INSERT comment\"];\n",
    "  webserver <-- database;\n",
    "  browser <-- webserver;\n",
    "}"
   ]
  },
  {
   "cell_type": "markdown",
   "metadata": {},
   "source": [
    "## Activity Diagram"
   ]
  },
  {
   "cell_type": "code",
   "execution_count": 12,
   "metadata": {},
   "outputs": [
    {
     "data": {
      "image/svg+xml": [
       "<svg xmlns=\"http://www.w3.org/2000/svg\" xmlns:inkspace=\"http://www.inkscape.org/namespaces/inkscape\" xmlns:xlink=\"http://www.w3.org/1999/xlink\" viewBox=\"0 0 448 360\" width=\"448px\" height=\"360px\">\n",
       "  <defs id=\"defs_block\">\n",
       "    <filter height=\"1.504\" id=\"filter_blur\" inkspace:collect=\"always\" width=\"1.1575\" x=\"-0.07875\" y=\"-0.252\">\n",
       "      <feGaussianBlur id=\"feGaussianBlur3780\" inkspace:collect=\"always\" stdDeviation=\"4.2\"/>\n",
       "    </filter>\n",
       "  </defs>\n",
       "  <title>blockdiag</title>\n",
       "  <desc>\n",
       "actdiag {\n",
       "  write -&gt; convert -&gt; image\n",
       "\n",
       "  lane user {\n",
       "    label = &quot;User&quot;\n",
       "    write [label = &quot;Writing reST&quot;];\n",
       "    image [label = &quot;Get diagram IMAGE&quot;];\n",
       "  }\n",
       "  lane actdiag {\n",
       "    convert [label = &quot;Convert reST to Image&quot;];\n",
       "  }\n",
       "}\n",
       "</desc>\n",
       "  <rect fill=\"rgb(0,0,0)\" height=\"40\" stroke=\"rgb(0,0,0)\" style=\"filter:url(#filter_blur);opacity:0.7;fill-opacity:1\" width=\"128\" x=\"67\" y=\"126\"/>\n",
       "  <rect fill=\"rgb(0,0,0)\" height=\"40\" stroke=\"rgb(0,0,0)\" style=\"filter:url(#filter_blur);opacity:0.7;fill-opacity:1\" width=\"128\" x=\"259\" y=\"206\"/>\n",
       "  <rect fill=\"rgb(0,0,0)\" height=\"40\" stroke=\"rgb(0,0,0)\" style=\"filter:url(#filter_blur);opacity:0.7;fill-opacity:1\" width=\"128\" x=\"67\" y=\"286\"/>\n",
       "  <rect fill=\"#ffff99\" height=\"62\" stroke=\"#ffff99\" width=\"192\" x=\"32\" y=\"38\"/>\n",
       "  <text fill=\"rgb(0,0,0)\" font-family=\"sans-serif\" font-size=\"11\" font-style=\"normal\" font-weight=\"normal\" text-anchor=\"middle\" textLength=\"28\" x=\"128.0\" y=\"75\">User</text>\n",
       "  <rect fill=\"#ffff99\" height=\"62\" stroke=\"#ffff99\" width=\"192\" x=\"224\" y=\"38\"/>\n",
       "  <text fill=\"rgb(0,0,0)\" font-family=\"sans-serif\" font-size=\"11\" font-style=\"normal\" font-weight=\"normal\" text-anchor=\"middle\" textLength=\"42\" x=\"320.0\" y=\"76\">actdiag</text>\n",
       "  <rect fill=\"none\" height=\"302\" stroke=\"gray\" width=\"384\" x=\"32\" y=\"38\"/>\n",
       "  <path d=\"M 32 100 L 416 100\" fill=\"none\" stroke=\"gray\"/>\n",
       "  <path d=\"M 224 38 L 224 340\" fill=\"none\" stroke=\"gray\"/>\n",
       "  <rect fill=\"rgb(255,255,255)\" height=\"40\" stroke=\"rgb(0,0,0)\" width=\"128\" x=\"64\" y=\"120\"/>\n",
       "  <text fill=\"rgb(0,0,0)\" font-family=\"sans-serif\" font-size=\"11\" font-style=\"normal\" font-weight=\"normal\" text-anchor=\"middle\" textLength=\"74\" x=\"128.0\" y=\"147\">Writing reST</text>\n",
       "  <rect fill=\"rgb(255,255,255)\" height=\"40\" stroke=\"rgb(0,0,0)\" width=\"128\" x=\"256\" y=\"200\"/>\n",
       "  <text fill=\"rgb(0,0,0)\" font-family=\"sans-serif\" font-size=\"11\" font-style=\"normal\" font-weight=\"normal\" text-anchor=\"middle\" textLength=\"122\" x=\"320.0\" y=\"220\">Convert reST to Imag</text>\n",
       "  <text fill=\"rgb(0,0,0)\" font-family=\"sans-serif\" font-size=\"11\" font-style=\"normal\" font-weight=\"normal\" text-anchor=\"middle\" textLength=\"7\" x=\"320.5\" y=\"233\">e</text>\n",
       "  <rect fill=\"rgb(255,255,255)\" height=\"40\" stroke=\"rgb(0,0,0)\" width=\"128\" x=\"64\" y=\"280\"/>\n",
       "  <text fill=\"rgb(0,0,0)\" font-family=\"sans-serif\" font-size=\"11\" font-style=\"normal\" font-weight=\"normal\" text-anchor=\"middle\" textLength=\"115\" x=\"128.5\" y=\"307\">Get diagram IMAGE</text>\n",
       "  <path d=\"M 128 160 L 128 180\" fill=\"none\" stroke=\"rgb(0,0,0)\"/>\n",
       "  <path d=\"M 128 180 L 320 180\" fill=\"none\" stroke=\"rgb(0,0,0)\"/>\n",
       "  <path d=\"M 320 180 L 320 192\" fill=\"none\" stroke=\"rgb(0,0,0)\"/>\n",
       "  <polygon fill=\"rgb(0,0,0)\" points=\"320,199 316,192 324,192 320,199\" stroke=\"rgb(0,0,0)\"/>\n",
       "  <path d=\"M 320 240 L 320 260\" fill=\"none\" stroke=\"rgb(0,0,0)\"/>\n",
       "  <path d=\"M 128 260 L 320 260\" fill=\"none\" stroke=\"rgb(0,0,0)\"/>\n",
       "  <path d=\"M 128 260 L 128 272\" fill=\"none\" stroke=\"rgb(0,0,0)\"/>\n",
       "  <polygon fill=\"rgb(0,0,0)\" points=\"128,279 124,272 132,272 128,279\" stroke=\"rgb(0,0,0)\"/>\n",
       "</svg>"
      ],
      "text/plain": [
       "<IPython.core.display.SVG object>"
      ]
     },
     "metadata": {},
     "output_type": "display_data"
    }
   ],
   "source": [
    "%%kroki -u https://kroki.io actdiag\n",
    "\n",
    "actdiag {\n",
    "  write -> convert -> image\n",
    "\n",
    "  lane user {\n",
    "    label = \"User\"\n",
    "    write [label = \"Writing reST\"];\n",
    "    image [label = \"Get diagram IMAGE\"];\n",
    "  }\n",
    "  lane actdiag {\n",
    "    convert [label = \"Convert reST to Image\"];\n",
    "  }\n",
    "}"
   ]
  },
  {
   "cell_type": "markdown",
   "metadata": {},
   "source": [
    "## ERD"
   ]
  },
  {
   "cell_type": "code",
   "execution_count": 13,
   "metadata": {},
   "outputs": [
    {
     "data": {
      "image/svg+xml": [
       "<svg xmlns=\"http://www.w3.org/2000/svg\" xmlns:xlink=\"http://www.w3.org/1999/xlink\" width=\"325pt\" height=\"144pt\" viewBox=\"0.00 0.00 325.00 144.00\">\n",
       "<g id=\"graph0\" class=\"graph\" transform=\"scale(1 1) rotate(0) translate(4 140)\">\n",
       "<polygon fill=\"white\" stroke=\"none\" points=\"-4,4 -4,-140 321,-140 321,4 -4,4\"/>\n",
       "<!-- Person -->\n",
       "<g id=\"node1\" class=\"node\">\n",
       "<title>Person</title>\n",
       "<polygon fill=\"none\" stroke=\"black\" points=\"8,-104 8,-132 132,-132 132,-104 8,-104\"/>\n",
       "<text text-anchor=\"start\" x=\"38\" y=\"-115.2\" font-family=\"Helvetica,sans-Serif\" font-weight=\"bold\" font-size=\"16.00\">Person</text>\n",
       "<polygon fill=\"none\" stroke=\"black\" points=\"8,-79 8,-104 132,-104 132,-79 8,-79\"/>\n",
       "<text text-anchor=\"start\" x=\"13\" y=\"-88.8\" font-family=\"Helvetica,sans-Serif\" text-decoration=\"underline\" font-size=\"14.00\">name</text>\n",
       "<polygon fill=\"none\" stroke=\"black\" points=\"8,-54 8,-79 132,-79 132,-54 8,-54\"/>\n",
       "<text text-anchor=\"start\" x=\"13\" y=\"-62.8\" font-family=\"Helvetica,sans-Serif\" font-size=\"14.00\">height</text>\n",
       "<polygon fill=\"none\" stroke=\"black\" points=\"8,-29 8,-54 132,-54 132,-29 8,-29\"/>\n",
       "<text text-anchor=\"start\" x=\"13\" y=\"-37.8\" font-family=\"Helvetica,sans-Serif\" font-size=\"14.00\">weight</text>\n",
       "<polygon fill=\"none\" stroke=\"black\" points=\"8,-4 8,-29 132,-29 132,-4 8,-4\"/>\n",
       "<text text-anchor=\"start\" x=\"13\" y=\"-13.8\" font-family=\"Helvetica,sans-Serif\" font-style=\"italic\" font-size=\"14.00\">birth_location_id</text>\n",
       "</g>\n",
       "<!-- Location -->\n",
       "<g id=\"node2\" class=\"node\">\n",
       "<title>Location</title>\n",
       "<polygon fill=\"none\" stroke=\"black\" points=\"221,-104 221,-132 309,-132 309,-104 221,-104\"/>\n",
       "<text text-anchor=\"start\" x=\"226\" y=\"-115.2\" font-family=\"Helvetica,sans-Serif\" font-weight=\"bold\" font-size=\"16.00\">Location</text>\n",
       "<polygon fill=\"none\" stroke=\"black\" points=\"221,-79 221,-104 309,-104 309,-79 221,-79\"/>\n",
       "<text text-anchor=\"start\" x=\"226\" y=\"-88.8\" font-family=\"Helvetica,sans-Serif\" text-decoration=\"underline\" font-size=\"14.00\">id</text>\n",
       "<polygon fill=\"none\" stroke=\"black\" points=\"221,-54 221,-79 309,-79 309,-54 221,-54\"/>\n",
       "<text text-anchor=\"start\" x=\"226\" y=\"-62.8\" font-family=\"Helvetica,sans-Serif\" font-size=\"14.00\">city</text>\n",
       "<polygon fill=\"none\" stroke=\"black\" points=\"221,-29 221,-54 309,-54 309,-29 221,-29\"/>\n",
       "<text text-anchor=\"start\" x=\"226\" y=\"-37.8\" font-family=\"Helvetica,sans-Serif\" font-size=\"14.00\">state</text>\n",
       "<polygon fill=\"none\" stroke=\"black\" points=\"221,-4 221,-29 309,-29 309,-4 221,-4\"/>\n",
       "<text text-anchor=\"start\" x=\"226\" y=\"-12.8\" font-family=\"Helvetica,sans-Serif\" font-size=\"14.00\">country</text>\n",
       "</g>\n",
       "<!-- Person&#45;&#45;Location -->\n",
       "<g id=\"edge1\" class=\"edge\">\n",
       "<title>Person--Location</title>\n",
       "<path fill=\"none\" stroke=\"#7f7f7f\" stroke-dasharray=\"5,2\" d=\"M139.86,-68C164,-68 190.66,-68 213.07,-68\"/>\n",
       "<text text-anchor=\"start\" x=\"203.07\" y=\"-56.8\" font-family=\"Times,serif\" font-size=\"14.00\">1</text>\n",
       "<text text-anchor=\"start\" x=\"139.86\" y=\"-56.8\" font-family=\"Times,serif\" font-size=\"14.00\">0..N</text>\n",
       "</g>\n",
       "</g>\n",
       "</svg>"
      ],
      "text/plain": [
       "<IPython.core.display.SVG object>"
      ]
     },
     "metadata": {},
     "output_type": "display_data"
    }
   ],
   "source": [
    "%%kroki erd\n",
    "\n",
    "[Person]\n",
    "*name\n",
    "height\n",
    "weight\n",
    "+birth_location_id\n",
    "\n",
    "[Location]\n",
    "*id\n",
    "city\n",
    "state\n",
    "country\n",
    "\n",
    "Person *--1 Location"
   ]
  },
  {
   "cell_type": "markdown",
   "metadata": {},
   "source": [
    "## Gantt"
   ]
  },
  {
   "cell_type": "code",
   "execution_count": 14,
   "metadata": {},
   "outputs": [
    {
     "data": {
      "image/svg+xml": [
       "<svg xmlns=\"http://www.w3.org/2000/svg\" aria-labelledby=\"chart-title-container\" aria-roledescription=\"gantt\" role=\"graphics-document document\" height=\"196\" viewBox=\"0 0 584 196\" width=\"584\" id=\"container\"><title id=\"chart-title-container\">A Gantt Diagram</title><style>#container{font-family:&quot;trebuchet ms&quot;,verdana,arial,sans-serif;font-size:16px;fill:#333;}#container .error-icon{fill:#552222;}#container .error-text{fill:#552222;stroke:#552222;}#container .edge-thickness-normal{stroke-width:2px;}#container .edge-thickness-thick{stroke-width:3.5px;}#container .edge-pattern-solid{stroke-dasharray:0;}#container .edge-pattern-dashed{stroke-dasharray:3;}#container .edge-pattern-dotted{stroke-dasharray:2;}#container .marker{fill:#333333;stroke:#333333;}#container .marker.cross{stroke:#333333;}#container svg{font-family:&quot;trebuchet ms&quot;,verdana,arial,sans-serif;font-size:16px;}#container .mermaid-main-font{font-family:&quot;trebuchet ms&quot;,verdana,arial,sans-serif;font-family:var(--mermaid-font-family);}#container .exclude-range{fill:#eeeeee;}#container .section{stroke:none;opacity:0.2;}#container .section0{fill:rgba(102, 102, 255, 0.49);}#container .section2{fill:#fff400;}#container .section1,#container .section3{fill:white;opacity:0.2;}#container .sectionTitle0{fill:#333;}#container .sectionTitle1{fill:#333;}#container .sectionTitle2{fill:#333;}#container .sectionTitle3{fill:#333;}#container .sectionTitle{text-anchor:start;font-family:'trebuchet ms',verdana,arial,sans-serif;font-family:var(--mermaid-font-family);}#container .grid .tick{stroke:lightgrey;opacity:0.8;shape-rendering:crispEdges;}#container .grid .tick text{font-family:&quot;trebuchet ms&quot;,verdana,arial,sans-serif;fill:#333;}#container .grid path{stroke-width:0;}#container .today{fill:none;stroke:red;stroke-width:2px;}#container .task{stroke-width:2;}#container .taskText{text-anchor:middle;font-family:'trebuchet ms',verdana,arial,sans-serif;font-family:var(--mermaid-font-family);}#container .taskTextOutsideRight{fill:black;text-anchor:start;font-family:'trebuchet ms',verdana,arial,sans-serif;font-family:var(--mermaid-font-family);}#container .taskTextOutsideLeft{fill:black;text-anchor:end;}#container .task.clickable{cursor:pointer;}#container .taskText.clickable{cursor:pointer;fill:#003163!important;font-weight:bold;}#container .taskTextOutsideLeft.clickable{cursor:pointer;fill:#003163!important;font-weight:bold;}#container .taskTextOutsideRight.clickable{cursor:pointer;fill:#003163!important;font-weight:bold;}#container .taskText0,#container .taskText1,#container .taskText2,#container .taskText3{fill:white;}#container .task0,#container .task1,#container .task2,#container .task3{fill:#8a90dd;stroke:#534fbc;}#container .taskTextOutside0,#container .taskTextOutside2{fill:black;}#container .taskTextOutside1,#container .taskTextOutside3{fill:black;}#container .active0,#container .active1,#container .active2,#container .active3{fill:#bfc7ff;stroke:#534fbc;}#container .activeText0,#container .activeText1,#container .activeText2,#container .activeText3{fill:black!important;}#container .done0,#container .done1,#container .done2,#container .done3{stroke:grey;fill:lightgrey;stroke-width:2;}#container .doneText0,#container .doneText1,#container .doneText2,#container .doneText3{fill:black!important;}#container .crit0,#container .crit1,#container .crit2,#container .crit3{stroke:#ff8888;fill:red;stroke-width:2;}#container .activeCrit0,#container .activeCrit1,#container .activeCrit2,#container .activeCrit3{stroke:#ff8888;fill:#bfc7ff;stroke-width:2;}#container .doneCrit0,#container .doneCrit1,#container .doneCrit2,#container .doneCrit3{stroke:#ff8888;fill:lightgrey;stroke-width:2;cursor:pointer;shape-rendering:crispEdges;}#container .milestone{transform:rotate(45deg) scale(0.8,0.8);}#container .milestoneText{font-style:italic;}#container .doneCritText0,#container .doneCritText1,#container .doneCritText2,#container .doneCritText3{fill:black!important;}#container .activeCritText0,#container .activeCritText1,#container .activeCritText2,#container .activeCritText3{fill:black!important;}#container .titleText{text-anchor:middle;font-size:18px;fill:#333;font-family:'trebuchet ms',verdana,arial,sans-serif;font-family:var(--mermaid-font-family);}#container :root{--mermaid-font-family:&quot;trebuchet ms&quot;,verdana,arial,sans-serif;}</style><g/><g/><g text-anchor=\"middle\" font-family=\"sans-serif\" font-size=\"10\" fill=\"none\" transform=\"translate(75, 146)\" class=\"grid\"><path d=\"M0.5,-111V0.5H434.5V-111\" stroke=\"currentColor\" class=\"domain\"/><g transform=\"translate(35.5,0)\" opacity=\"1\" class=\"tick\"><line y2=\"-111\" stroke=\"currentColor\"/><text style=\"text-anchor: middle;\" font-size=\"10\" stroke=\"none\" dy=\"1em\" y=\"3\" fill=\"#000\">2014-01-05</text></g><g transform=\"translate(95.5,0)\" opacity=\"1\" class=\"tick\"><line y2=\"-111\" stroke=\"currentColor\"/><text style=\"text-anchor: middle;\" font-size=\"10\" stroke=\"none\" dy=\"1em\" y=\"3\" fill=\"#000\">2014-01-12</text></g><g transform=\"translate(156.5,0)\" opacity=\"1\" class=\"tick\"><line y2=\"-111\" stroke=\"currentColor\"/><text style=\"text-anchor: middle;\" font-size=\"10\" stroke=\"none\" dy=\"1em\" y=\"3\" fill=\"#000\">2014-01-19</text></g><g transform=\"translate(217.5,0)\" opacity=\"1\" class=\"tick\"><line y2=\"-111\" stroke=\"currentColor\"/><text style=\"text-anchor: middle;\" font-size=\"10\" stroke=\"none\" dy=\"1em\" y=\"3\" fill=\"#000\">2014-01-26</text></g><g transform=\"translate(278.5,0)\" opacity=\"1\" class=\"tick\"><line y2=\"-111\" stroke=\"currentColor\"/><text style=\"text-anchor: middle;\" font-size=\"10\" stroke=\"none\" dy=\"1em\" y=\"3\" fill=\"#000\">2014-02-02</text></g><g transform=\"translate(339.5,0)\" opacity=\"1\" class=\"tick\"><line y2=\"-111\" stroke=\"currentColor\"/><text style=\"text-anchor: middle;\" font-size=\"10\" stroke=\"none\" dy=\"1em\" y=\"3\" fill=\"#000\">2014-02-09</text></g><g transform=\"translate(399.5,0)\" opacity=\"1\" class=\"tick\"><line y2=\"-111\" stroke=\"currentColor\"/><text style=\"text-anchor: middle;\" font-size=\"10\" stroke=\"none\" dy=\"1em\" y=\"3\" fill=\"#000\">2014-02-16</text></g></g><g><rect class=\"section section0\" height=\"24\" width=\"546.5\" y=\"48\" x=\"0\"/><rect class=\"section section1\" height=\"24\" width=\"546.5\" y=\"96\" x=\"0\"/><rect class=\"section section1\" height=\"24\" width=\"546.5\" y=\"120\" x=\"0\"/><rect class=\"section section0\" height=\"24\" width=\"546.5\" y=\"72\" x=\"0\"/></g><g><rect class=\"task task0\" transform-origin=\"205px 60px\" height=\"20\" width=\"260\" y=\"50\" x=\"75\" ry=\"3\" rx=\"3\" id=\"a1\"/><rect class=\"task task1\" transform-origin=\"222.5px 108px\" height=\"20\" width=\"105\" y=\"98\" x=\"170\" ry=\"3\" rx=\"3\" id=\"task2\"/><rect class=\"task task1\" transform-origin=\"379px 132px\" height=\"20\" width=\"208\" y=\"122\" x=\"275\" ry=\"3\" rx=\"3\" id=\"task3\"/><rect class=\"task task0\" transform-origin=\"422px 84px\" height=\"20\" width=\"174\" y=\"74\" x=\"335\" ry=\"3\" rx=\"3\" id=\"task1\"/><text class=\"taskText taskText0  width-30.122833251953125\" y=\"63.5\" x=\"205\" font-size=\"11\" id=\"a1-text\">A task           </text><text class=\"taskText taskText1  width-53.5625\" y=\"111.5\" x=\"222.5\" font-size=\"11\" id=\"task2-text\">Task in sec      </text><text class=\"taskText taskText1  width-63.33160400390625\" y=\"135.5\" x=\"379\" font-size=\"11\" id=\"task3-text\">another task     </text><text class=\"taskText taskText0  width-63.65057373046875\" y=\"87.5\" x=\"422\" font-size=\"11\" id=\"task1-text\">Another task     </text></g><g><text class=\"sectionTitle sectionTitle0\" font-size=\"11\" y=\"74\" x=\"10\" dy=\"0em\"><tspan x=\"10\" alignment-baseline=\"central\">Section</tspan></text><text class=\"sectionTitle sectionTitle1\" font-size=\"11\" y=\"122\" x=\"10\" dy=\"0em\"><tspan x=\"10\" alignment-baseline=\"central\">Another</tspan></text></g><g class=\"today\"><line class=\"today\" y2=\"171\" y1=\"25\" x2=\"30233\" x1=\"30233\"/></g><text class=\"titleText\" y=\"25\" x=\"292\">A Gantt Diagram</text></svg>"
      ],
      "text/plain": [
       "<IPython.core.display.SVG object>"
      ]
     },
     "metadata": {},
     "output_type": "display_data"
    }
   ],
   "source": [
    "%%kroki -u https://kroki.io mermaid\n",
    "\n",
    "gantt\n",
    "    title A Gantt Diagram\n",
    "    dateFormat  YYYY-MM-DD\n",
    "    section Section\n",
    "    A task           :a1, 2014-01-01, 30d\n",
    "    Another task     :after a1, 20d\n",
    "    section Another\n",
    "    Task in sec      :2014-01-12, 12d\n",
    "    another task     :24d"
   ]
  },
  {
   "cell_type": "markdown",
   "metadata": {},
   "source": [
    "## MindMap"
   ]
  },
  {
   "cell_type": "code",
   "execution_count": 15,
   "metadata": {},
   "outputs": [
    {
     "data": {
      "image/svg+xml": [
       "<svg xmlns=\"http://www.w3.org/2000/svg\" xmlns:xlink=\"http://www.w3.org/1999/xlink\" contentStyleType=\"text/css\" height=\"387px\" preserveAspectRatio=\"none\" style=\"width:632px;height:387px;background:#FFFFFF;\" version=\"1.1\" viewBox=\"0 0 632 387\" width=\"632px\" zoomAndPan=\"magnify\"><defs/><g><rect fill=\"#F1F1F1\" height=\"36.2969\" rx=\"12.5\" ry=\"12.5\" style=\"stroke:#181818;stroke-width:1.5;\" width=\"40\" x=\"319\" y=\"174.8164\"/><text fill=\"#000000\" font-family=\"sans-serif\" font-size=\"14\" lengthAdjust=\"spacing\" textLength=\"20\" x=\"329\" y=\"197.8115\">OS</text><rect fill=\"#F1F1F1\" height=\"36.2969\" rx=\"12.5\" ry=\"12.5\" style=\"stroke:#181818;stroke-width:1.5;\" width=\"71\" x=\"409\" y=\"104.4453\"/><text fill=\"#000000\" font-family=\"sans-serif\" font-size=\"14\" lengthAdjust=\"spacing\" textLength=\"51\" x=\"419\" y=\"127.4404\">Ubuntu</text><rect fill=\"#F1F1F1\" height=\"36.2969\" rx=\"12.5\" ry=\"12.5\" style=\"stroke:#181818;stroke-width:1.5;\" width=\"88\" x=\"530\" y=\"20\"/><text fill=\"#000000\" font-family=\"sans-serif\" font-size=\"14\" lengthAdjust=\"spacing\" textLength=\"68\" x=\"540\" y=\"42.9951\">Linux Mint</text><path d=\"M480,122.5938 L490,122.5938 C505,122.5938 505,38.1484 520,38.1484 L530,38.1484 \" fill=\"none\" style=\"stroke:#181818;stroke-width:1.0;\"/><rect fill=\"#F1F1F1\" height=\"36.2969\" rx=\"12.5\" ry=\"12.5\" style=\"stroke:#181818;stroke-width:1.5;\" width=\"79\" x=\"530\" y=\"76.2969\"/><text fill=\"#000000\" font-family=\"sans-serif\" font-size=\"14\" lengthAdjust=\"spacing\" textLength=\"59\" x=\"540\" y=\"99.292\">Kubuntu</text><path d=\"M480,122.5938 L490,122.5938 C505,122.5938 505,94.4453 520,94.4453 L530,94.4453 \" fill=\"none\" style=\"stroke:#181818;stroke-width:1.0;\"/><rect fill=\"#F1F1F1\" height=\"36.2969\" rx=\"12.5\" ry=\"12.5\" style=\"stroke:#181818;stroke-width:1.5;\" width=\"77\" x=\"530\" y=\"132.5938\"/><text fill=\"#000000\" font-family=\"sans-serif\" font-size=\"14\" lengthAdjust=\"spacing\" textLength=\"57\" x=\"540\" y=\"155.5889\">Lubuntu</text><path d=\"M480,122.5938 L490,122.5938 C505,122.5938 505,150.7422 520,150.7422 L530,150.7422 \" fill=\"none\" style=\"stroke:#181818;stroke-width:1.0;\"/><rect fill=\"#F1F1F1\" height=\"36.2969\" rx=\"12.5\" ry=\"12.5\" style=\"stroke:#181818;stroke-width:1.5;\" width=\"90\" x=\"530\" y=\"188.8906\"/><text fill=\"#000000\" font-family=\"sans-serif\" font-size=\"14\" lengthAdjust=\"spacing\" textLength=\"70\" x=\"540\" y=\"211.8857\">KDE Neon</text><path d=\"M480,122.5938 L490,122.5938 C505,122.5938 505,207.0391 520,207.0391 L530,207.0391 \" fill=\"none\" style=\"stroke:#181818;stroke-width:1.0;\"/><path d=\"M359,192.9648 L369,192.9648 C384,192.9648 384,122.5938 399,122.5938 L409,122.5938 \" fill=\"none\" style=\"stroke:#181818;stroke-width:1.0;\"/><rect fill=\"#F1F1F1\" height=\"36.2969\" rx=\"12.5\" ry=\"12.5\" style=\"stroke:#181818;stroke-width:1.5;\" width=\"59\" x=\"409\" y=\"160.7422\"/><text fill=\"#000000\" font-family=\"sans-serif\" font-size=\"14\" lengthAdjust=\"spacing\" textLength=\"39\" x=\"419\" y=\"183.7373\">LMDE</text><path d=\"M359,192.9648 L369,192.9648 C384,192.9648 384,178.8906 399,178.8906 L409,178.8906 \" fill=\"none\" style=\"stroke:#181818;stroke-width:1.0;\"/><rect fill=\"#F1F1F1\" height=\"36.2969\" rx=\"12.5\" ry=\"12.5\" style=\"stroke:#181818;stroke-width:1.5;\" width=\"75\" x=\"409\" y=\"217.0391\"/><text fill=\"#000000\" font-family=\"sans-serif\" font-size=\"14\" lengthAdjust=\"spacing\" textLength=\"55\" x=\"419\" y=\"240.0342\">SolydXK</text><path d=\"M359,192.9648 L369,192.9648 C384,192.9648 384,235.1875 399,235.1875 L409,235.1875 \" fill=\"none\" style=\"stroke:#181818;stroke-width:1.0;\"/><rect fill=\"#F1F1F1\" height=\"36.2969\" rx=\"12.5\" ry=\"12.5\" style=\"stroke:#181818;stroke-width:1.5;\" width=\"84\" x=\"409\" y=\"273.3359\"/><text fill=\"#000000\" font-family=\"sans-serif\" font-size=\"14\" lengthAdjust=\"spacing\" textLength=\"64\" x=\"419\" y=\"296.3311\">SteamOS</text><path d=\"M359,192.9648 L369,192.9648 C384,192.9648 384,291.4844 399,291.4844 L409,291.4844 \" fill=\"none\" style=\"stroke:#181818;stroke-width:1.0;\"/><rect fill=\"#F1F1F1\" height=\"36.2969\" rx=\"12.5\" ry=\"12.5\" style=\"stroke:#181818;stroke-width:1.5;\" width=\"84\" x=\"409\" y=\"329.6328\"/><text fill=\"#000000\" font-family=\"sans-serif\" font-size=\"14\" lengthAdjust=\"spacing\" textLength=\"64\" x=\"419\" y=\"352.6279\">Raspbian</text><path d=\"M359,192.9648 L369,192.9648 C384,192.9648 384,347.7813 399,347.7813 L409,347.7813 \" fill=\"none\" style=\"stroke:#181818;stroke-width:1.0;\"/><rect fill=\"#F1F1F1\" height=\"36.2969\" rx=\"12.5\" ry=\"12.5\" style=\"stroke:#181818;stroke-width:1.5;\" width=\"104\" x=\"165\" y=\"104.4453\"/><text fill=\"#000000\" font-family=\"sans-serif\" font-size=\"14\" lengthAdjust=\"spacing\" textLength=\"84\" x=\"175\" y=\"127.4404\">Windows 95</text><path d=\"M319,192.9648 L309,192.9648 C294,192.9648 294,122.5938 279,122.5938 L269,122.5938 \" fill=\"none\" style=\"stroke:#181818;stroke-width:1.0;\"/><rect fill=\"#F1F1F1\" height=\"36.2969\" rx=\"12.5\" ry=\"12.5\" style=\"stroke:#181818;stroke-width:1.5;\" width=\"104\" x=\"165\" y=\"160.7422\"/><text fill=\"#000000\" font-family=\"sans-serif\" font-size=\"14\" lengthAdjust=\"spacing\" textLength=\"84\" x=\"175\" y=\"183.7373\">Windows 98</text><path d=\"M319,192.9648 L309,192.9648 C294,192.9648 294,178.8906 279,178.8906 L269,178.8906 \" fill=\"none\" style=\"stroke:#181818;stroke-width:1.0;\"/><rect fill=\"#F1F1F1\" height=\"36.2969\" rx=\"12.5\" ry=\"12.5\" style=\"stroke:#181818;stroke-width:1.5;\" width=\"105\" x=\"164\" y=\"217.0391\"/><text fill=\"#000000\" font-family=\"sans-serif\" font-size=\"14\" lengthAdjust=\"spacing\" textLength=\"85\" x=\"174\" y=\"240.0342\">Windows NT</text><rect fill=\"#F1F1F1\" height=\"36.2969\" rx=\"12.5\" ry=\"12.5\" style=\"stroke:#181818;stroke-width:1.5;\" width=\"95\" x=\"19\" y=\"188.8906\"/><text fill=\"#000000\" font-family=\"sans-serif\" font-size=\"14\" lengthAdjust=\"spacing\" textLength=\"75\" x=\"29\" y=\"211.8857\">Windows 8</text><path d=\"M164,235.1875 L154,235.1875 C139,235.1875 139,207.0391 124,207.0391 L114,207.0391 \" fill=\"none\" style=\"stroke:#181818;stroke-width:1.0;\"/><rect fill=\"#F1F1F1\" height=\"36.2969\" rx=\"12.5\" ry=\"12.5\" style=\"stroke:#181818;stroke-width:1.5;\" width=\"104\" x=\"10\" y=\"245.1875\"/><text fill=\"#000000\" font-family=\"sans-serif\" font-size=\"14\" lengthAdjust=\"spacing\" textLength=\"84\" x=\"20\" y=\"268.1826\">Windows 10</text><path d=\"M164,235.1875 L154,235.1875 C139,235.1875 139,263.3359 124,263.3359 L114,263.3359 \" fill=\"none\" style=\"stroke:#181818;stroke-width:1.0;\"/><path d=\"M319,192.9648 L309,192.9648 C294,192.9648 294,235.1875 279,235.1875 L269,235.1875 \" fill=\"none\" style=\"stroke:#181818;stroke-width:1.0;\"/><!--SRC=[LP3DRi8m48JlVeez5aL19AKepGcreKWa0KG2xTKaMseLhoF_qFBsDRGLSF9y7kzensDZkRPIK2jvnyode8vhBa4gKis7LXB1QeSiW4N5WW3MMqVMUHL08SXzGod8dZ5tLzQLphC9p57HQReeiydfhDJ-sBxbPscHoz_i5JVTLd1YOGYlVYFrPU3nuOQIQvhNdYwOt50qO6FqhVwQiUMUarsN1HnG6w48eduyYED-DBoh7KA63Gn642LfF4oZUvYMDPpy7hkRBWimoka6eHN6Qh5rrWVqs8mVEAnyKI4nXKM7DClo_mkOq45eHHBz_ymsvUN1Q1W-2GiLQhyAR4gMuJjtU-id6jKAsgMmhb_2X1MSTexlV3OIUrO-Ln-zL_q0]--></g></svg>"
      ],
      "text/plain": [
       "<IPython.core.display.SVG object>"
      ]
     },
     "metadata": {},
     "output_type": "display_data"
    }
   ],
   "source": [
    "%%kroki plantuml\n",
    "\n",
    "@startmindmap\n",
    "skinparam monochrome true\n",
    "+ OS\n",
    "++ Ubuntu\n",
    "+++ Linux Mint\n",
    "+++ Kubuntu\n",
    "+++ Lubuntu\n",
    "+++ KDE Neon\n",
    "++ LMDE\n",
    "++ SolydXK\n",
    "++ SteamOS\n",
    "++ Raspbian\n",
    "-- Windows 95\n",
    "-- Windows 98\n",
    "-- Windows NT\n",
    "--- Windows 8\n",
    "--- Windows 10\n",
    "@endmindmap"
   ]
  },
  {
   "cell_type": "markdown",
   "metadata": {},
   "source": [
    "## SvgBob"
   ]
  },
  {
   "cell_type": "code",
   "execution_count": 16,
   "metadata": {},
   "outputs": [
    {
     "data": {
      "image/svg+xml": [
       "<svg xmlns=\"http://www.w3.org/2000/svg\" width=\"400\" height=\"160\">\n",
       "  <style>\n",
       "    line, path, circle, rect, polygon{stroke:black;stroke-width:2;stroke-opacity:1;fill-opacity:1;stroke-linecap:round;stroke-linejoin:miter;}text{font-family:Iosevka Fixed, monospace;font-size:14px;}rect.backdrop{stroke:none;fill:white;}.broken{stroke-dasharray:8;}.filled{fill:black;}.bg_filled{fill:white;}.nofill{fill:white;}.end_marked_arrow{marker-end:url(#arrow);}.start_marked_arrow{marker-start:url(#arrow);}.end_marked_diamond{marker-end:url(#diamond);}.start_marked_diamond{marker-start:url(#diamond);}.end_marked_circle{marker-end:url(#circle);}.start_marked_circle{marker-start:url(#circle);}.end_marked_open_circle{marker-end:url(#open_circle);}.start_marked_open_circle{marker-start:url(#open_circle);}.end_marked_big_open_circle{marker-end:url(#big_open_circle);}.start_marked_big_open_circle{marker-start:url(#big_open_circle);}\n",
       "    <!--separator-->\n",
       "    \n",
       "  </style>\n",
       "  <defs>\n",
       "    <marker id=\"arrow\" viewBox=\"-2 -2 8 8\" refX=\"4\" refY=\"2\" markerWidth=\"7\" markerHeight=\"7\" orient=\"auto-start-reverse\">\n",
       "      <polygon points=\"0,0 0,4 4,2 0,0\"/>\n",
       "    </marker>\n",
       "    <marker id=\"diamond\" viewBox=\"-2 -2 8 8\" refX=\"4\" refY=\"2\" markerWidth=\"7\" markerHeight=\"7\" orient=\"auto-start-reverse\">\n",
       "      <polygon points=\"0,2 2,0 4,2 2,4 0,2\"/>\n",
       "    </marker>\n",
       "    <marker id=\"circle\" viewBox=\"0 0 8 8\" refX=\"4\" refY=\"4\" markerWidth=\"7\" markerHeight=\"7\" orient=\"auto-start-reverse\">\n",
       "      <circle cx=\"4\" cy=\"4\" r=\"2\" class=\"filled\"/>\n",
       "    </marker>\n",
       "    <marker id=\"open_circle\" viewBox=\"0 0 8 8\" refX=\"4\" refY=\"4\" markerWidth=\"7\" markerHeight=\"7\" orient=\"auto-start-reverse\">\n",
       "      <circle cx=\"4\" cy=\"4\" r=\"2\" class=\"bg_filled\"/>\n",
       "    </marker>\n",
       "    <marker id=\"big_open_circle\" viewBox=\"0 0 8 8\" refX=\"4\" refY=\"4\" markerWidth=\"7\" markerHeight=\"7\" orient=\"auto-start-reverse\">\n",
       "      <circle cx=\"4\" cy=\"4\" r=\"3\" class=\"bg_filled\"/>\n",
       "    </marker>\n",
       "  </defs>\n",
       "  <rect class=\"backdrop\" x=\"0\" y=\"0\" width=\"400\" height=\"160\"/>\n",
       "  <rect x=\"60\" y=\"32\" width=\"16\" height=\"32\" class=\"solid nofill\" rx=\"0\"/>\n",
       "  <line x1=\"64\" y1=\"38\" x2=\"72\" y2=\"38\" class=\"solid\"/>\n",
       "  <line x1=\"64\" y1=\"42\" x2=\"72\" y2=\"42\" class=\"solid\"/>\n",
       "  <rect x=\"316\" y=\"96\" width=\"24\" height=\"48\" class=\"solid nofill\" rx=\"0\"/>\n",
       "  <line x1=\"320\" y1=\"102\" x2=\"336\" y2=\"102\" class=\"solid\"/>\n",
       "  <line x1=\"320\" y1=\"106\" x2=\"336\" y2=\"106\" class=\"solid\"/>\n",
       "  <text x=\"138\" y=\"12\">.</text>\n",
       "  <line x1=\"144\" y1=\"8\" x2=\"152\" y2=\"8\" class=\"solid\"/>\n",
       "  <text x=\"154\" y=\"12\">,</text>\n",
       "  <path d=\"M 168,0 A 16,16 0,0,0 168,16\" class=\"nofill\"/>\n",
       "  <text x=\"138\" y=\"28\">(</text>\n",
       "  <text x=\"162\" y=\"76\">.</text>\n",
       "  <path d=\"M 176,64 A 16,16 0,0,0 176,80\" class=\"nofill\"/>\n",
       "  <path d=\"M 184,0 A 16,16 0,0,1 184,16\" class=\"nofill\"/>\n",
       "  <text x=\"194\" y=\"12\">,</text>\n",
       "  <line x1=\"200\" y1=\"8\" x2=\"208\" y2=\"8\" class=\"solid\"/>\n",
       "  <text x=\"210\" y=\"12\">.</text>\n",
       "  <line x1=\"24\" y1=\"32\" x2=\"48\" y2=\"32\" class=\"solid\"/>\n",
       "  <text x=\"18\" y=\"44\">[</text>\n",
       "  <text x=\"50\" y=\"44\">]</text>\n",
       "  <text x=\"26\" y=\"60\">::</text>\n",
       "  <path d=\"M 224,16 A 16,16 0,0,1 224,32\" class=\"nofill\"/>\n",
       "  <text x=\"250\" y=\"44\">)</text>\n",
       "  <path d=\"M 224,48 A 16,16 0,0,1 224,64\" class=\"nofill\"/>\n",
       "  <text x=\"234\" y=\"60\">.</text>\n",
       "  <line x1=\"240\" y1=\"56\" x2=\"248\" y2=\"56\" class=\"solid\"/>\n",
       "  <text x=\"250\" y=\"60\">'</text>\n",
       "  <line x1=\"304\" y1=\"48\" x2=\"384\" y2=\"48\" class=\"solid\"/>\n",
       "  <text x=\"298\" y=\"60\">[</text>\n",
       "  <line x1=\"304\" y1=\"64\" x2=\"312\" y2=\"64\" class=\"solid\"/>\n",
       "  <text x=\"314\" y=\"60\">...</text>\n",
       "  <line x1=\"336\" y1=\"64\" x2=\"352\" y2=\"64\" class=\"solid\"/>\n",
       "  <path d=\"M 184,64 A 16,16 0,0,1 184,80\" class=\"nofill\"/>\n",
       "  <text x=\"194\" y=\"76\">.</text>\n",
       "  <line x1=\"200\" y1=\"72\" x2=\"208\" y2=\"72\" class=\"solid\"/>\n",
       "  <text x=\"210\" y=\"76\">'</text>\n",
       "  <text x=\"266\" y=\"140\">::::</text>\n",
       "  <line x1=\"304\" y1=\"128\" x2=\"296\" y2=\"144\" class=\"solid\"/>\n",
       "  <g>\n",
       "    <path d=\"M 128,24 A 8,8 0,0,0 122,28\" class=\"nofill\"/>\n",
       "    <line x1=\"122\" y1=\"28\" x2=\"120\" y2=\"32\" class=\"solid\"/>\n",
       "    <line x1=\"128\" y1=\"24\" x2=\"136\" y2=\"24\" class=\"solid\"/>\n",
       "    <path d=\"M 120,32 A 16,16 0,0,0 120,48\" class=\"nofill\"/>\n",
       "    <line x1=\"120\" y1=\"48\" x2=\"122\" y2=\"52\" class=\"solid\"/>\n",
       "    <path d=\"M 122,52 A 8,8 0,0,0 128,56\" class=\"nofill\"/>\n",
       "    <line x1=\"128\" y1=\"56\" x2=\"136\" y2=\"56\" class=\"solid\"/>\n",
       "  </g>\n",
       "  <g>\n",
       "    <line x1=\"88\" y1=\"40\" x2=\"104\" y2=\"40\" class=\"solid\"/>\n",
       "    <polygon points=\"104,36 112,40 104,44\" class=\"filled\"/>\n",
       "  </g>\n",
       "  <g>\n",
       "    <path d=\"M 144,48 A 16,16 0,0,0 144,64\" class=\"nofill\"/>\n",
       "    <line x1=\"144\" y1=\"64\" x2=\"146\" y2=\"68\" class=\"solid\"/>\n",
       "    <path d=\"M 146,68 A 8,8 0,0,0 152,72\" class=\"nofill\"/>\n",
       "    <line x1=\"152\" y1=\"72\" x2=\"160\" y2=\"72\" class=\"solid\"/>\n",
       "  </g>\n",
       "  <g>\n",
       "    <line x1=\"24\" y1=\"48\" x2=\"48\" y2=\"48\" class=\"solid\"/>\n",
       "    <line x1=\"24\" y1=\"48\" x2=\"16\" y2=\"64\" class=\"solid\"/>\n",
       "    <line x1=\"48\" y1=\"48\" x2=\"40\" y2=\"64\" class=\"solid\"/>\n",
       "  </g>\n",
       "  <g>\n",
       "    <line x1=\"232\" y1=\"24\" x2=\"240\" y2=\"24\" class=\"solid\"/>\n",
       "    <path d=\"M 240,24 A 8,8 0,0,1 246,28\" class=\"nofill\"/>\n",
       "    <line x1=\"246\" y1=\"28\" x2=\"248\" y2=\"32\" class=\"solid\"/>\n",
       "  </g>\n",
       "  <g>\n",
       "    <line x1=\"264\" y1=\"56\" x2=\"288\" y2=\"56\" class=\"solid\"/>\n",
       "    <polygon points=\"288,52 296,56 288,60\" class=\"filled\"/>\n",
       "  </g>\n",
       "  <g>\n",
       "    <text x=\"354\" y=\"60\">...Â°</text>\n",
       "    <text x=\"386\" y=\"60\">]</text>\n",
       "  </g>\n",
       "  <g>\n",
       "    <line x1=\"208\" y1=\"80\" x2=\"218\" y2=\"100\" class=\"solid\"/>\n",
       "    <path d=\"M 218,100 A 8,8 0,0,0 224,104\" class=\"nofill\"/>\n",
       "    <line x1=\"224\" y1=\"104\" x2=\"248\" y2=\"104\" class=\"solid\"/>\n",
       "    <polygon points=\"248,100 256,104 248,108\" class=\"filled\"/>\n",
       "  </g>\n",
       "  <g>\n",
       "    <line x1=\"260\" y1=\"96\" x2=\"300\" y2=\"96\" class=\"solid\"/>\n",
       "    <line x1=\"260\" y1=\"96\" x2=\"260\" y2=\"128\" class=\"solid\"/>\n",
       "    <line x1=\"300\" y1=\"96\" x2=\"300\" y2=\"128\" class=\"solid\"/>\n",
       "    <line x1=\"260\" y1=\"128\" x2=\"300\" y2=\"128\" class=\"solid\"/>\n",
       "    <line x1=\"264\" y1=\"128\" x2=\"256\" y2=\"144\" class=\"solid\"/>\n",
       "  </g>\n",
       "</svg>"
      ],
      "text/plain": [
       "<IPython.core.display.SVG object>"
      ]
     },
     "metadata": {},
     "output_type": "display_data"
    }
   ],
   "source": [
    "%%kroki svgbob\n",
    "                 .-,(  ),-.\n",
    "   ___  _      .-(          )-.\n",
    "  [___]|=| -->(                )      __________\n",
    "  /::/ |_|     '-(          ).-' --->[_...__...°]\n",
    "                  '-.( ).-'\n",
    "                          \\      ____   __\n",
    "                           '--->|    | |==|\n",
    "                                |____| |  |\n",
    "                                /::::/ |__|"
   ]
  },
  {
   "cell_type": "code",
   "execution_count": null,
   "metadata": {},
   "outputs": [],
   "source": []
  }
 ],
 "metadata": {
  "kernelspec": {
   "display_name": "Python 3",
   "language": "python",
   "name": "python3"
  },
  "language_info": {
   "codemirror_mode": {
    "name": "ipython",
    "version": 3
   },
   "file_extension": ".py",
   "mimetype": "text/x-python",
   "name": "python",
   "nbconvert_exporter": "python",
   "pygments_lexer": "ipython3",
   "version": "3.10.3"
  }
 },
 "nbformat": 4,
 "nbformat_minor": 4
}
